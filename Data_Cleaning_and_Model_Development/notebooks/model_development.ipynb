{
 "cells": [
  {
   "cell_type": "code",
   "execution_count": 3,
   "id": "51643e5f",
   "metadata": {},
   "outputs": [],
   "source": [
    "import pandas as pd\n",
    "import numpy as np\n",
    "from sklearn.linear_model import LogisticRegression\n",
    "from sklearn import svm\n",
    "from sklearn.model_selection import train_test_split\n",
    "from sklearn.preprocessing import StandardScaler, LabelEncoder\n",
    "import os"
   ]
  },
  {
   "cell_type": "code",
   "execution_count": 7,
   "id": "1e810442",
   "metadata": {},
   "outputs": [],
   "source": [
    "# Get the current working directory\n",
    "current_directory = os.getcwd()\n",
    "\n",
    "# Go back one level to the parent directory\n",
    "parent_directory = os.path.dirname(current_directory)\n",
    "\n",
    "# Open a different folder\n",
    "desired_folder = \"processed_data\"  \n",
    "folder_path = os.path.join(parent_directory, desired_folder)\n",
    "\n",
    "# Check if the folder exists\n",
    "if os.path.exists(folder_path) and os.path.isdir(folder_path):\n",
    "    file_to_read = \"filtered_dataset_v2.csv\" \n",
    "    file_path = os.path.join(folder_path, file_to_read)\n",
    "    \n",
    "    # Check if the file exists\n",
    "    if os.path.exists(file_path) and os.path.isfile(file_path):\n",
    "        try:\n",
    "            df = pd.read_csv(file_path)\n",
    "        except Exception as e:\n",
    "            print(f\"Error reading file: {e}\")\n",
    "    else:\n",
    "        print(f\"File '{file_to_read}' does not exist in folder '{desired_folder}'.\")\n",
    "else:\n",
    "    print(f\"Folder '{desired_folder}' does not exist in the parent directory.\")"
   ]
  },
  {
   "cell_type": "code",
   "execution_count": 8,
   "id": "9f56838b",
   "metadata": {},
   "outputs": [
    {
     "data": {
      "text/html": [
       "<div>\n",
       "<style scoped>\n",
       "    .dataframe tbody tr th:only-of-type {\n",
       "        vertical-align: middle;\n",
       "    }\n",
       "\n",
       "    .dataframe tbody tr th {\n",
       "        vertical-align: top;\n",
       "    }\n",
       "\n",
       "    .dataframe thead th {\n",
       "        text-align: right;\n",
       "    }\n",
       "</style>\n",
       "<table border=\"1\" class=\"dataframe\">\n",
       "  <thead>\n",
       "    <tr style=\"text-align: right;\">\n",
       "      <th></th>\n",
       "      <th>Unnamed: 0</th>\n",
       "      <th>Summary</th>\n",
       "      <th>Temperature (C)</th>\n",
       "      <th>Apparent Temperature (C)</th>\n",
       "      <th>Humidity</th>\n",
       "      <th>Pressure (millibars)</th>\n",
       "    </tr>\n",
       "  </thead>\n",
       "  <tbody>\n",
       "    <tr>\n",
       "      <th>0</th>\n",
       "      <td>4</td>\n",
       "      <td>Mostly Cloudy</td>\n",
       "      <td>8.755556</td>\n",
       "      <td>6.977778</td>\n",
       "      <td>0.83</td>\n",
       "      <td>1016.51</td>\n",
       "    </tr>\n",
       "    <tr>\n",
       "      <th>1</th>\n",
       "      <td>5</td>\n",
       "      <td>Partly Cloudy</td>\n",
       "      <td>9.222222</td>\n",
       "      <td>7.111111</td>\n",
       "      <td>0.85</td>\n",
       "      <td>1016.66</td>\n",
       "    </tr>\n",
       "    <tr>\n",
       "      <th>2</th>\n",
       "      <td>12</td>\n",
       "      <td>Partly Cloudy</td>\n",
       "      <td>17.800000</td>\n",
       "      <td>17.800000</td>\n",
       "      <td>0.55</td>\n",
       "      <td>1017.59</td>\n",
       "    </tr>\n",
       "    <tr>\n",
       "      <th>3</th>\n",
       "      <td>14</td>\n",
       "      <td>Partly Cloudy</td>\n",
       "      <td>18.877778</td>\n",
       "      <td>18.877778</td>\n",
       "      <td>0.47</td>\n",
       "      <td>1017.17</td>\n",
       "    </tr>\n",
       "    <tr>\n",
       "      <th>4</th>\n",
       "      <td>18</td>\n",
       "      <td>Mostly Cloudy</td>\n",
       "      <td>14.255556</td>\n",
       "      <td>14.255556</td>\n",
       "      <td>0.69</td>\n",
       "      <td>1015.82</td>\n",
       "    </tr>\n",
       "  </tbody>\n",
       "</table>\n",
       "</div>"
      ],
      "text/plain": [
       "   Unnamed: 0        Summary  Temperature (C)  Apparent Temperature (C)   \n",
       "0           4  Mostly Cloudy         8.755556                  6.977778  \\\n",
       "1           5  Partly Cloudy         9.222222                  7.111111   \n",
       "2          12  Partly Cloudy        17.800000                 17.800000   \n",
       "3          14  Partly Cloudy        18.877778                 18.877778   \n",
       "4          18  Mostly Cloudy        14.255556                 14.255556   \n",
       "\n",
       "   Humidity  Pressure (millibars)  \n",
       "0      0.83               1016.51  \n",
       "1      0.85               1016.66  \n",
       "2      0.55               1017.59  \n",
       "3      0.47               1017.17  \n",
       "4      0.69               1015.82  "
      ]
     },
     "execution_count": 8,
     "metadata": {},
     "output_type": "execute_result"
    }
   ],
   "source": [
    "df.head()"
   ]
  },
  {
   "cell_type": "code",
   "execution_count": 9,
   "id": "21bae4b0",
   "metadata": {},
   "outputs": [
    {
     "name": "stdout",
     "output_type": "stream",
     "text": [
      "<class 'pandas.core.frame.DataFrame'>\n",
      "RangeIndex: 38924 entries, 0 to 38923\n",
      "Data columns (total 6 columns):\n",
      " #   Column                    Non-Null Count  Dtype  \n",
      "---  ------                    --------------  -----  \n",
      " 0   Unnamed: 0                38924 non-null  int64  \n",
      " 1   Summary                   38924 non-null  object \n",
      " 2   Temperature (C)           38924 non-null  float64\n",
      " 3   Apparent Temperature (C)  38924 non-null  float64\n",
      " 4   Humidity                  38924 non-null  float64\n",
      " 5   Pressure (millibars)      38924 non-null  float64\n",
      "dtypes: float64(4), int64(1), object(1)\n",
      "memory usage: 1.8+ MB\n"
     ]
    }
   ],
   "source": [
    "df.info()"
   ]
  },
  {
   "cell_type": "code",
   "execution_count": 10,
   "id": "0cbc6dc1",
   "metadata": {},
   "outputs": [
    {
     "data": {
      "text/plain": [
       "Summary\n",
       "Mostly Cloudy    9731\n",
       "Partly Cloudy    9731\n",
       "Overcast         9731\n",
       "Clear            9731\n",
       "Name: count, dtype: int64"
      ]
     },
     "execution_count": 10,
     "metadata": {},
     "output_type": "execute_result"
    }
   ],
   "source": [
    "df['Summary'].value_counts()"
   ]
  },
  {
   "cell_type": "code",
   "execution_count": 11,
   "id": "1b63e11f",
   "metadata": {},
   "outputs": [
    {
     "data": {
      "text/html": [
       "<div>\n",
       "<style scoped>\n",
       "    .dataframe tbody tr th:only-of-type {\n",
       "        vertical-align: middle;\n",
       "    }\n",
       "\n",
       "    .dataframe tbody tr th {\n",
       "        vertical-align: top;\n",
       "    }\n",
       "\n",
       "    .dataframe thead th {\n",
       "        text-align: right;\n",
       "    }\n",
       "</style>\n",
       "<table border=\"1\" class=\"dataframe\">\n",
       "  <thead>\n",
       "    <tr style=\"text-align: right;\">\n",
       "      <th></th>\n",
       "      <th>Summary</th>\n",
       "      <th>Temperature (C)</th>\n",
       "      <th>Apparent Temperature (C)</th>\n",
       "      <th>Humidity</th>\n",
       "      <th>Pressure (millibars)</th>\n",
       "    </tr>\n",
       "  </thead>\n",
       "  <tbody>\n",
       "    <tr>\n",
       "      <th>0</th>\n",
       "      <td>Mostly Cloudy</td>\n",
       "      <td>8.755556</td>\n",
       "      <td>6.977778</td>\n",
       "      <td>0.83</td>\n",
       "      <td>1016.51</td>\n",
       "    </tr>\n",
       "    <tr>\n",
       "      <th>1</th>\n",
       "      <td>Partly Cloudy</td>\n",
       "      <td>9.222222</td>\n",
       "      <td>7.111111</td>\n",
       "      <td>0.85</td>\n",
       "      <td>1016.66</td>\n",
       "    </tr>\n",
       "    <tr>\n",
       "      <th>2</th>\n",
       "      <td>Partly Cloudy</td>\n",
       "      <td>17.800000</td>\n",
       "      <td>17.800000</td>\n",
       "      <td>0.55</td>\n",
       "      <td>1017.59</td>\n",
       "    </tr>\n",
       "    <tr>\n",
       "      <th>3</th>\n",
       "      <td>Partly Cloudy</td>\n",
       "      <td>18.877778</td>\n",
       "      <td>18.877778</td>\n",
       "      <td>0.47</td>\n",
       "      <td>1017.17</td>\n",
       "    </tr>\n",
       "    <tr>\n",
       "      <th>4</th>\n",
       "      <td>Mostly Cloudy</td>\n",
       "      <td>14.255556</td>\n",
       "      <td>14.255556</td>\n",
       "      <td>0.69</td>\n",
       "      <td>1015.82</td>\n",
       "    </tr>\n",
       "    <tr>\n",
       "      <th>...</th>\n",
       "      <td>...</td>\n",
       "      <td>...</td>\n",
       "      <td>...</td>\n",
       "      <td>...</td>\n",
       "      <td>...</td>\n",
       "    </tr>\n",
       "    <tr>\n",
       "      <th>38919</th>\n",
       "      <td>Clear</td>\n",
       "      <td>16.072222</td>\n",
       "      <td>16.072222</td>\n",
       "      <td>0.88</td>\n",
       "      <td>1015.25</td>\n",
       "    </tr>\n",
       "    <tr>\n",
       "      <th>38920</th>\n",
       "      <td>Partly Cloudy</td>\n",
       "      <td>28.866667</td>\n",
       "      <td>28.216667</td>\n",
       "      <td>0.37</td>\n",
       "      <td>1015.35</td>\n",
       "    </tr>\n",
       "    <tr>\n",
       "      <th>38921</th>\n",
       "      <td>Partly Cloudy</td>\n",
       "      <td>30.894444</td>\n",
       "      <td>29.450000</td>\n",
       "      <td>0.28</td>\n",
       "      <td>1014.66</td>\n",
       "    </tr>\n",
       "    <tr>\n",
       "      <th>38922</th>\n",
       "      <td>Partly Cloudy</td>\n",
       "      <td>30.766667</td>\n",
       "      <td>29.311111</td>\n",
       "      <td>0.28</td>\n",
       "      <td>1013.83</td>\n",
       "    </tr>\n",
       "    <tr>\n",
       "      <th>38923</th>\n",
       "      <td>Partly Cloudy</td>\n",
       "      <td>28.838889</td>\n",
       "      <td>27.850000</td>\n",
       "      <td>0.32</td>\n",
       "      <td>1014.07</td>\n",
       "    </tr>\n",
       "  </tbody>\n",
       "</table>\n",
       "<p>38924 rows × 5 columns</p>\n",
       "</div>"
      ],
      "text/plain": [
       "             Summary  Temperature (C)  Apparent Temperature (C)  Humidity   \n",
       "0      Mostly Cloudy         8.755556                  6.977778      0.83  \\\n",
       "1      Partly Cloudy         9.222222                  7.111111      0.85   \n",
       "2      Partly Cloudy        17.800000                 17.800000      0.55   \n",
       "3      Partly Cloudy        18.877778                 18.877778      0.47   \n",
       "4      Mostly Cloudy        14.255556                 14.255556      0.69   \n",
       "...              ...              ...                       ...       ...   \n",
       "38919          Clear        16.072222                 16.072222      0.88   \n",
       "38920  Partly Cloudy        28.866667                 28.216667      0.37   \n",
       "38921  Partly Cloudy        30.894444                 29.450000      0.28   \n",
       "38922  Partly Cloudy        30.766667                 29.311111      0.28   \n",
       "38923  Partly Cloudy        28.838889                 27.850000      0.32   \n",
       "\n",
       "       Pressure (millibars)  \n",
       "0                   1016.51  \n",
       "1                   1016.66  \n",
       "2                   1017.59  \n",
       "3                   1017.17  \n",
       "4                   1015.82  \n",
       "...                     ...  \n",
       "38919               1015.25  \n",
       "38920               1015.35  \n",
       "38921               1014.66  \n",
       "38922               1013.83  \n",
       "38923               1014.07  \n",
       "\n",
       "[38924 rows x 5 columns]"
      ]
     },
     "execution_count": 11,
     "metadata": {},
     "output_type": "execute_result"
    }
   ],
   "source": [
    "df.drop(columns=[\"Unnamed: 0\"])"
   ]
  },
  {
   "cell_type": "code",
   "execution_count": 12,
   "id": "abd592e1",
   "metadata": {},
   "outputs": [],
   "source": [
    "# feature_cols = [\"Temperature (C)\",\"Apparent Temperature (C)\", \"Humidity\", \"Pressure (millibars)\"]\n",
    "feature_cols = [\"Temperature (C)\", \"Humidity\", \"Pressure (millibars)\"]\n",
    "encoder = LabelEncoder()\n",
    "X = df[feature_cols]\n",
    "Y = encoder.fit_transform(df.Summary)"
   ]
  },
  {
   "cell_type": "code",
   "execution_count": 13,
   "id": "9c281fe3",
   "metadata": {},
   "outputs": [],
   "source": [
    "# split X and y into training and testing sets\n",
    "\n",
    "X_train, X_test, Y_train, Y_test = train_test_split(X, Y, test_size=0.25, random_state=42)"
   ]
  },
  {
   "cell_type": "code",
   "execution_count": 14,
   "id": "7910bb38",
   "metadata": {},
   "outputs": [],
   "source": [
    "\n",
    "\n",
    "scaler = StandardScaler()\n",
    "X_train_scaled = scaler.fit_transform(X_train)\n",
    "X_test_scaled = scaler.transform(X_test)\n",
    "\n",
    "# X_train_scaled = X_train\n",
    "# X_test_scaled = X_test"
   ]
  },
  {
   "cell_type": "markdown",
   "id": "7322109b",
   "metadata": {},
   "source": [
    "## Using Logistic Regression"
   ]
  },
  {
   "cell_type": "code",
   "execution_count": 63,
   "id": "f876c2a8",
   "metadata": {},
   "outputs": [],
   "source": [
    "lr = LogisticRegression(random_state=16,solver='lbfgs',max_iter=1000).fit(X_train_scaled, Y_train)"
   ]
  },
  {
   "cell_type": "code",
   "execution_count": 64,
   "id": "77f75b4d",
   "metadata": {},
   "outputs": [],
   "source": [
    "Y_pred = lr.predict(X_test_scaled)"
   ]
  },
  {
   "cell_type": "code",
   "execution_count": 65,
   "id": "5b2f32da",
   "metadata": {},
   "outputs": [
    {
     "data": {
      "text/plain": [
       "array([[1060,  201,  583,  613],\n",
       "       [ 527,  414,  814,  627],\n",
       "       [ 506,  277, 1587,  128],\n",
       "       [ 538,  333,  516, 1007]], dtype=int64)"
      ]
     },
     "execution_count": 65,
     "metadata": {},
     "output_type": "execute_result"
    }
   ],
   "source": [
    "from sklearn import metrics\n",
    "\n",
    "cnf_matrix_lr = metrics.confusion_matrix(Y_test, Y_pred)\n",
    "cnf_matrix_lr"
   ]
  },
  {
   "cell_type": "code",
   "execution_count": 66,
   "id": "17f9d38a",
   "metadata": {},
   "outputs": [
    {
     "data": {
      "text/plain": [
       "0.4180454218477032"
      ]
     },
     "execution_count": 66,
     "metadata": {},
     "output_type": "execute_result"
    }
   ],
   "source": [
    "lr.score(X_test_scaled,Y_test)"
   ]
  },
  {
   "cell_type": "code",
   "execution_count": 67,
   "id": "1855cb9d",
   "metadata": {},
   "outputs": [
    {
     "name": "stdout",
     "output_type": "stream",
     "text": [
      "              precision    recall  f1-score   support\n",
      "\n",
      "           0       0.40      0.43      0.42      2457\n",
      "           1       0.34      0.17      0.23      2382\n",
      "           2       0.45      0.64      0.53      2498\n",
      "           3       0.42      0.42      0.42      2394\n",
      "\n",
      "    accuracy                           0.42      9731\n",
      "   macro avg       0.40      0.42      0.40      9731\n",
      "weighted avg       0.41      0.42      0.40      9731\n",
      "\n"
     ]
    }
   ],
   "source": [
    "from sklearn.metrics import classification_report\n",
    "# target_names = ['without diabetes', 'with diabetes']\n",
    "print(classification_report(Y_test, Y_pred))"
   ]
  },
  {
   "cell_type": "markdown",
   "id": "b4193821",
   "metadata": {},
   "source": [
    "## Using SVC"
   ]
  },
  {
   "cell_type": "markdown",
   "id": "29692844",
   "metadata": {},
   "source": [
    "One vs One Approach"
   ]
  },
  {
   "cell_type": "code",
   "execution_count": 68,
   "id": "c523641a",
   "metadata": {},
   "outputs": [
    {
     "data": {
      "text/html": [
       "<style>#sk-container-id-2 {color: black;background-color: white;}#sk-container-id-2 pre{padding: 0;}#sk-container-id-2 div.sk-toggleable {background-color: white;}#sk-container-id-2 label.sk-toggleable__label {cursor: pointer;display: block;width: 100%;margin-bottom: 0;padding: 0.3em;box-sizing: border-box;text-align: center;}#sk-container-id-2 label.sk-toggleable__label-arrow:before {content: \"▸\";float: left;margin-right: 0.25em;color: #696969;}#sk-container-id-2 label.sk-toggleable__label-arrow:hover:before {color: black;}#sk-container-id-2 div.sk-estimator:hover label.sk-toggleable__label-arrow:before {color: black;}#sk-container-id-2 div.sk-toggleable__content {max-height: 0;max-width: 0;overflow: hidden;text-align: left;background-color: #f0f8ff;}#sk-container-id-2 div.sk-toggleable__content pre {margin: 0.2em;color: black;border-radius: 0.25em;background-color: #f0f8ff;}#sk-container-id-2 input.sk-toggleable__control:checked~div.sk-toggleable__content {max-height: 200px;max-width: 100%;overflow: auto;}#sk-container-id-2 input.sk-toggleable__control:checked~label.sk-toggleable__label-arrow:before {content: \"▾\";}#sk-container-id-2 div.sk-estimator input.sk-toggleable__control:checked~label.sk-toggleable__label {background-color: #d4ebff;}#sk-container-id-2 div.sk-label input.sk-toggleable__control:checked~label.sk-toggleable__label {background-color: #d4ebff;}#sk-container-id-2 input.sk-hidden--visually {border: 0;clip: rect(1px 1px 1px 1px);clip: rect(1px, 1px, 1px, 1px);height: 1px;margin: -1px;overflow: hidden;padding: 0;position: absolute;width: 1px;}#sk-container-id-2 div.sk-estimator {font-family: monospace;background-color: #f0f8ff;border: 1px dotted black;border-radius: 0.25em;box-sizing: border-box;margin-bottom: 0.5em;}#sk-container-id-2 div.sk-estimator:hover {background-color: #d4ebff;}#sk-container-id-2 div.sk-parallel-item::after {content: \"\";width: 100%;border-bottom: 1px solid gray;flex-grow: 1;}#sk-container-id-2 div.sk-label:hover label.sk-toggleable__label {background-color: #d4ebff;}#sk-container-id-2 div.sk-serial::before {content: \"\";position: absolute;border-left: 1px solid gray;box-sizing: border-box;top: 0;bottom: 0;left: 50%;z-index: 0;}#sk-container-id-2 div.sk-serial {display: flex;flex-direction: column;align-items: center;background-color: white;padding-right: 0.2em;padding-left: 0.2em;position: relative;}#sk-container-id-2 div.sk-item {position: relative;z-index: 1;}#sk-container-id-2 div.sk-parallel {display: flex;align-items: stretch;justify-content: center;background-color: white;position: relative;}#sk-container-id-2 div.sk-item::before, #sk-container-id-2 div.sk-parallel-item::before {content: \"\";position: absolute;border-left: 1px solid gray;box-sizing: border-box;top: 0;bottom: 0;left: 50%;z-index: -1;}#sk-container-id-2 div.sk-parallel-item {display: flex;flex-direction: column;z-index: 1;position: relative;background-color: white;}#sk-container-id-2 div.sk-parallel-item:first-child::after {align-self: flex-end;width: 50%;}#sk-container-id-2 div.sk-parallel-item:last-child::after {align-self: flex-start;width: 50%;}#sk-container-id-2 div.sk-parallel-item:only-child::after {width: 0;}#sk-container-id-2 div.sk-dashed-wrapped {border: 1px dashed gray;margin: 0 0.4em 0.5em 0.4em;box-sizing: border-box;padding-bottom: 0.4em;background-color: white;}#sk-container-id-2 div.sk-label label {font-family: monospace;font-weight: bold;display: inline-block;line-height: 1.2em;}#sk-container-id-2 div.sk-label-container {text-align: center;}#sk-container-id-2 div.sk-container {/* jupyter's `normalize.less` sets `[hidden] { display: none; }` but bootstrap.min.css set `[hidden] { display: none !important; }` so we also need the `!important` here to be able to override the default hidden behavior on the sphinx rendered scikit-learn.org. See: https://github.com/scikit-learn/scikit-learn/issues/21755 */display: inline-block !important;position: relative;}#sk-container-id-2 div.sk-text-repr-fallback {display: none;}</style><div id=\"sk-container-id-2\" class=\"sk-top-container\"><div class=\"sk-text-repr-fallback\"><pre>SVC(decision_function_shape=&#x27;ovo&#x27;)</pre><b>In a Jupyter environment, please rerun this cell to show the HTML representation or trust the notebook. <br />On GitHub, the HTML representation is unable to render, please try loading this page with nbviewer.org.</b></div><div class=\"sk-container\" hidden><div class=\"sk-item\"><div class=\"sk-estimator sk-toggleable\"><input class=\"sk-toggleable__control sk-hidden--visually\" id=\"sk-estimator-id-2\" type=\"checkbox\" checked><label for=\"sk-estimator-id-2\" class=\"sk-toggleable__label sk-toggleable__label-arrow\">SVC</label><div class=\"sk-toggleable__content\"><pre>SVC(decision_function_shape=&#x27;ovo&#x27;)</pre></div></div></div></div></div>"
      ],
      "text/plain": [
       "SVC(decision_function_shape='ovo')"
      ]
     },
     "execution_count": 68,
     "metadata": {},
     "output_type": "execute_result"
    }
   ],
   "source": [
    "svc = svm.SVC(decision_function_shape=\"ovo\")\n",
    "svc.fit(X_train_scaled, Y_train)"
   ]
  },
  {
   "cell_type": "code",
   "execution_count": 69,
   "id": "811d6879",
   "metadata": {},
   "outputs": [
    {
     "data": {
      "text/plain": [
       "array([[1087,  260,  495,  615],\n",
       "       [ 546,  488,  759,  589],\n",
       "       [ 533,  297, 1558,  110],\n",
       "       [ 568,  354,  473,  999]], dtype=int64)"
      ]
     },
     "execution_count": 69,
     "metadata": {},
     "output_type": "execute_result"
    }
   ],
   "source": [
    "Y_pred_svc = svc.predict(X_test_scaled)\n",
    "\n",
    "cnf_matrix_svc = metrics.confusion_matrix(Y_test, Y_pred_svc)\n",
    "cnf_matrix_svc"
   ]
  },
  {
   "cell_type": "code",
   "execution_count": 70,
   "id": "33d8d5d7",
   "metadata": {},
   "outputs": [
    {
     "data": {
      "text/plain": [
       "0.42462234097215085"
      ]
     },
     "execution_count": 70,
     "metadata": {},
     "output_type": "execute_result"
    }
   ],
   "source": [
    "svc.score(X_test_scaled,Y_test)"
   ]
  },
  {
   "cell_type": "code",
   "execution_count": 71,
   "id": "a95d488a",
   "metadata": {},
   "outputs": [
    {
     "name": "stdout",
     "output_type": "stream",
     "text": [
      "              precision    recall  f1-score   support\n",
      "\n",
      "           0       0.40      0.44      0.42      2457\n",
      "           1       0.35      0.20      0.26      2382\n",
      "           2       0.47      0.62      0.54      2498\n",
      "           3       0.43      0.42      0.42      2394\n",
      "\n",
      "    accuracy                           0.42      9731\n",
      "   macro avg       0.41      0.42      0.41      9731\n",
      "weighted avg       0.41      0.42      0.41      9731\n",
      "\n"
     ]
    }
   ],
   "source": [
    "print(classification_report(Y_test, Y_pred_svc))"
   ]
  },
  {
   "cell_type": "markdown",
   "id": "4db46f53",
   "metadata": {},
   "source": [
    "One vs Rest Approach"
   ]
  },
  {
   "cell_type": "code",
   "execution_count": 72,
   "id": "3f11203b",
   "metadata": {},
   "outputs": [
    {
     "ename": "InvalidParameterError",
     "evalue": "The 'dual' parameter of LinearSVC must be an instance of 'bool', an instance of 'numpy.bool_' or an instance of 'int'. Got 'int' instead.",
     "output_type": "error",
     "traceback": [
      "\u001b[1;31m---------------------------------------------------------------------------\u001b[0m",
      "\u001b[1;31mInvalidParameterError\u001b[0m                     Traceback (most recent call last)",
      "Cell \u001b[1;32mIn[72], line 1\u001b[0m\n\u001b[1;32m----> 1\u001b[0m lin_svc \u001b[38;5;241m=\u001b[39m \u001b[43msvm\u001b[49m\u001b[38;5;241;43m.\u001b[39;49m\u001b[43mLinearSVC\u001b[49m\u001b[43m(\u001b[49m\u001b[43mdual\u001b[49m\u001b[38;5;241;43m=\u001b[39;49m\u001b[38;5;124;43m\"\u001b[39;49m\u001b[38;5;124;43mint\u001b[39;49m\u001b[38;5;124;43m\"\u001b[39;49m\u001b[43m)\u001b[49m\u001b[38;5;241;43m.\u001b[39;49m\u001b[43mfit\u001b[49m\u001b[43m(\u001b[49m\u001b[43mX_train_scaled\u001b[49m\u001b[43m,\u001b[49m\u001b[43mY_train\u001b[49m\u001b[43m)\u001b[49m\n",
      "File \u001b[1;32mD:\\Programming\\Python\\Machine Learning\\ml\\lib\\site-packages\\sklearn\\svm\\_classes.py:261\u001b[0m, in \u001b[0;36mLinearSVC.fit\u001b[1;34m(self, X, y, sample_weight)\u001b[0m\n\u001b[0;32m    237\u001b[0m \u001b[38;5;28;01mdef\u001b[39;00m \u001b[38;5;21mfit\u001b[39m(\u001b[38;5;28mself\u001b[39m, X, y, sample_weight\u001b[38;5;241m=\u001b[39m\u001b[38;5;28;01mNone\u001b[39;00m):\n\u001b[0;32m    238\u001b[0m \u001b[38;5;250m    \u001b[39m\u001b[38;5;124;03m\"\"\"Fit the model according to the given training data.\u001b[39;00m\n\u001b[0;32m    239\u001b[0m \n\u001b[0;32m    240\u001b[0m \u001b[38;5;124;03m    Parameters\u001b[39;00m\n\u001b[1;32m   (...)\u001b[0m\n\u001b[0;32m    259\u001b[0m \u001b[38;5;124;03m        An instance of the estimator.\u001b[39;00m\n\u001b[0;32m    260\u001b[0m \u001b[38;5;124;03m    \"\"\"\u001b[39;00m\n\u001b[1;32m--> 261\u001b[0m     \u001b[38;5;28;43mself\u001b[39;49m\u001b[38;5;241;43m.\u001b[39;49m\u001b[43m_validate_params\u001b[49m\u001b[43m(\u001b[49m\u001b[43m)\u001b[49m\n\u001b[0;32m    263\u001b[0m     X, y \u001b[38;5;241m=\u001b[39m \u001b[38;5;28mself\u001b[39m\u001b[38;5;241m.\u001b[39m_validate_data(\n\u001b[0;32m    264\u001b[0m         X,\n\u001b[0;32m    265\u001b[0m         y,\n\u001b[1;32m   (...)\u001b[0m\n\u001b[0;32m    269\u001b[0m         accept_large_sparse\u001b[38;5;241m=\u001b[39m\u001b[38;5;28;01mFalse\u001b[39;00m,\n\u001b[0;32m    270\u001b[0m     )\n\u001b[0;32m    271\u001b[0m     check_classification_targets(y)\n",
      "File \u001b[1;32mD:\\Programming\\Python\\Machine Learning\\ml\\lib\\site-packages\\sklearn\\base.py:600\u001b[0m, in \u001b[0;36mBaseEstimator._validate_params\u001b[1;34m(self)\u001b[0m\n\u001b[0;32m    592\u001b[0m \u001b[38;5;28;01mdef\u001b[39;00m \u001b[38;5;21m_validate_params\u001b[39m(\u001b[38;5;28mself\u001b[39m):\n\u001b[0;32m    593\u001b[0m \u001b[38;5;250m    \u001b[39m\u001b[38;5;124;03m\"\"\"Validate types and values of constructor parameters\u001b[39;00m\n\u001b[0;32m    594\u001b[0m \n\u001b[0;32m    595\u001b[0m \u001b[38;5;124;03m    The expected type and values must be defined in the `_parameter_constraints`\u001b[39;00m\n\u001b[1;32m   (...)\u001b[0m\n\u001b[0;32m    598\u001b[0m \u001b[38;5;124;03m    accepted constraints.\u001b[39;00m\n\u001b[0;32m    599\u001b[0m \u001b[38;5;124;03m    \"\"\"\u001b[39;00m\n\u001b[1;32m--> 600\u001b[0m     \u001b[43mvalidate_parameter_constraints\u001b[49m\u001b[43m(\u001b[49m\n\u001b[0;32m    601\u001b[0m \u001b[43m        \u001b[49m\u001b[38;5;28;43mself\u001b[39;49m\u001b[38;5;241;43m.\u001b[39;49m\u001b[43m_parameter_constraints\u001b[49m\u001b[43m,\u001b[49m\n\u001b[0;32m    602\u001b[0m \u001b[43m        \u001b[49m\u001b[38;5;28;43mself\u001b[39;49m\u001b[38;5;241;43m.\u001b[39;49m\u001b[43mget_params\u001b[49m\u001b[43m(\u001b[49m\u001b[43mdeep\u001b[49m\u001b[38;5;241;43m=\u001b[39;49m\u001b[38;5;28;43;01mFalse\u001b[39;49;00m\u001b[43m)\u001b[49m\u001b[43m,\u001b[49m\n\u001b[0;32m    603\u001b[0m \u001b[43m        \u001b[49m\u001b[43mcaller_name\u001b[49m\u001b[38;5;241;43m=\u001b[39;49m\u001b[38;5;28;43mself\u001b[39;49m\u001b[38;5;241;43m.\u001b[39;49m\u001b[38;5;18;43m__class__\u001b[39;49m\u001b[38;5;241;43m.\u001b[39;49m\u001b[38;5;18;43m__name__\u001b[39;49m\u001b[43m,\u001b[49m\n\u001b[0;32m    604\u001b[0m \u001b[43m    \u001b[49m\u001b[43m)\u001b[49m\n",
      "File \u001b[1;32mD:\\Programming\\Python\\Machine Learning\\ml\\lib\\site-packages\\sklearn\\utils\\_param_validation.py:97\u001b[0m, in \u001b[0;36mvalidate_parameter_constraints\u001b[1;34m(parameter_constraints, params, caller_name)\u001b[0m\n\u001b[0;32m     91\u001b[0m \u001b[38;5;28;01melse\u001b[39;00m:\n\u001b[0;32m     92\u001b[0m     constraints_str \u001b[38;5;241m=\u001b[39m (\n\u001b[0;32m     93\u001b[0m         \u001b[38;5;124mf\u001b[39m\u001b[38;5;124m\"\u001b[39m\u001b[38;5;132;01m{\u001b[39;00m\u001b[38;5;124m'\u001b[39m\u001b[38;5;124m, \u001b[39m\u001b[38;5;124m'\u001b[39m\u001b[38;5;241m.\u001b[39mjoin([\u001b[38;5;28mstr\u001b[39m(c)\u001b[38;5;250m \u001b[39m\u001b[38;5;28;01mfor\u001b[39;00m\u001b[38;5;250m \u001b[39mc\u001b[38;5;250m \u001b[39m\u001b[38;5;129;01min\u001b[39;00m\u001b[38;5;250m \u001b[39mconstraints[:\u001b[38;5;241m-\u001b[39m\u001b[38;5;241m1\u001b[39m]])\u001b[38;5;132;01m}\u001b[39;00m\u001b[38;5;124m or\u001b[39m\u001b[38;5;124m\"\u001b[39m\n\u001b[0;32m     94\u001b[0m         \u001b[38;5;124mf\u001b[39m\u001b[38;5;124m\"\u001b[39m\u001b[38;5;124m \u001b[39m\u001b[38;5;132;01m{\u001b[39;00mconstraints[\u001b[38;5;241m-\u001b[39m\u001b[38;5;241m1\u001b[39m]\u001b[38;5;132;01m}\u001b[39;00m\u001b[38;5;124m\"\u001b[39m\n\u001b[0;32m     95\u001b[0m     )\n\u001b[1;32m---> 97\u001b[0m \u001b[38;5;28;01mraise\u001b[39;00m InvalidParameterError(\n\u001b[0;32m     98\u001b[0m     \u001b[38;5;124mf\u001b[39m\u001b[38;5;124m\"\u001b[39m\u001b[38;5;124mThe \u001b[39m\u001b[38;5;132;01m{\u001b[39;00mparam_name\u001b[38;5;132;01m!r}\u001b[39;00m\u001b[38;5;124m parameter of \u001b[39m\u001b[38;5;132;01m{\u001b[39;00mcaller_name\u001b[38;5;132;01m}\u001b[39;00m\u001b[38;5;124m must be\u001b[39m\u001b[38;5;124m\"\u001b[39m\n\u001b[0;32m     99\u001b[0m     \u001b[38;5;124mf\u001b[39m\u001b[38;5;124m\"\u001b[39m\u001b[38;5;124m \u001b[39m\u001b[38;5;132;01m{\u001b[39;00mconstraints_str\u001b[38;5;132;01m}\u001b[39;00m\u001b[38;5;124m. Got \u001b[39m\u001b[38;5;132;01m{\u001b[39;00mparam_val\u001b[38;5;132;01m!r}\u001b[39;00m\u001b[38;5;124m instead.\u001b[39m\u001b[38;5;124m\"\u001b[39m\n\u001b[0;32m    100\u001b[0m )\n",
      "\u001b[1;31mInvalidParameterError\u001b[0m: The 'dual' parameter of LinearSVC must be an instance of 'bool', an instance of 'numpy.bool_' or an instance of 'int'. Got 'int' instead."
     ]
    }
   ],
   "source": [
    "lin_svc = svm.LinearSVC(dual=\"int\").fit(X_train_scaled,Y_train)"
   ]
  },
  {
   "cell_type": "code",
   "execution_count": null,
   "id": "d4e467a2",
   "metadata": {},
   "outputs": [],
   "source": [
    "Y_pred_lin_svc = svc.predict(X_test_scaled)\n",
    "\n",
    "cnf_matrix_lin_sv = metrics.confusion_matrix(Y_test, Y_pred_lin_svc)\n",
    "cnf_matrix_lin_sv"
   ]
  },
  {
   "cell_type": "code",
   "execution_count": null,
   "id": "62470717",
   "metadata": {},
   "outputs": [],
   "source": [
    "lin_svc.score(X_test_scaled, Y_test)"
   ]
  },
  {
   "cell_type": "code",
   "execution_count": null,
   "id": "e70c9136",
   "metadata": {},
   "outputs": [],
   "source": [
    "print(classification_report(Y_test, Y_pred_lin_svc))"
   ]
  },
  {
   "cell_type": "markdown",
   "id": "04e2a32c",
   "metadata": {},
   "source": [
    "## Using KNN"
   ]
  },
  {
   "cell_type": "code",
   "execution_count": 73,
   "id": "78cc85f2",
   "metadata": {},
   "outputs": [],
   "source": [
    "from sklearn.neighbors import KNeighborsClassifier\n",
    "\n",
    "knn = KNeighborsClassifier(n_neighbors=4).fit(X_train_scaled,Y_train)"
   ]
  },
  {
   "cell_type": "code",
   "execution_count": 74,
   "id": "eadd7bc5",
   "metadata": {},
   "outputs": [
    {
     "data": {
      "text/plain": [
       "array([[1162,  465,  372,  458],\n",
       "       [ 603,  784,  522,  473],\n",
       "       [ 523,  581, 1179,  215],\n",
       "       [ 795,  571,  336,  692]], dtype=int64)"
      ]
     },
     "execution_count": 74,
     "metadata": {},
     "output_type": "execute_result"
    }
   ],
   "source": [
    "Y_pred_knn = knn.predict(X_test_scaled)\n",
    "\n",
    "cnf_matrix_knn = metrics.confusion_matrix(Y_test, Y_pred_knn)\n",
    "cnf_matrix_knn"
   ]
  },
  {
   "cell_type": "code",
   "execution_count": 75,
   "id": "0e2e3e22",
   "metadata": {},
   "outputs": [
    {
     "data": {
      "text/plain": [
       "0.3922515671565101"
      ]
     },
     "execution_count": 75,
     "metadata": {},
     "output_type": "execute_result"
    }
   ],
   "source": [
    "knn.score(X_test_scaled, Y_test)"
   ]
  },
  {
   "cell_type": "code",
   "execution_count": 76,
   "id": "75d5f525",
   "metadata": {},
   "outputs": [
    {
     "name": "stdout",
     "output_type": "stream",
     "text": [
      "              precision    recall  f1-score   support\n",
      "\n",
      "           0       0.38      0.47      0.42      2457\n",
      "           1       0.33      0.33      0.33      2382\n",
      "           2       0.49      0.47      0.48      2498\n",
      "           3       0.38      0.29      0.33      2394\n",
      "\n",
      "    accuracy                           0.39      9731\n",
      "   macro avg       0.39      0.39      0.39      9731\n",
      "weighted avg       0.39      0.39      0.39      9731\n",
      "\n"
     ]
    }
   ],
   "source": [
    "print(classification_report(Y_test, Y_pred_knn))"
   ]
  },
  {
   "cell_type": "markdown",
   "id": "85a528a6",
   "metadata": {},
   "source": [
    "## Using Gaussian Naive Bayes"
   ]
  },
  {
   "cell_type": "code",
   "execution_count": 77,
   "id": "b0aefa67",
   "metadata": {},
   "outputs": [],
   "source": [
    "from sklearn.naive_bayes import GaussianNB\n",
    "\n",
    "gnb = GaussianNB().fit(X_train_scaled, Y_train)"
   ]
  },
  {
   "cell_type": "code",
   "execution_count": 78,
   "id": "f7d70b7a",
   "metadata": {},
   "outputs": [
    {
     "data": {
      "text/plain": [
       "array([[1162,  465,  372,  458],\n",
       "       [ 603,  784,  522,  473],\n",
       "       [ 523,  581, 1179,  215],\n",
       "       [ 795,  571,  336,  692]], dtype=int64)"
      ]
     },
     "execution_count": 78,
     "metadata": {},
     "output_type": "execute_result"
    }
   ],
   "source": [
    "Y_pred_gnb = gnb.predict(X_test_scaled)\n",
    "\n",
    "cnf_matrix_gnb = metrics.confusion_matrix(Y_test, Y_pred_gnb)\n",
    "cnf_matrix_knn"
   ]
  },
  {
   "cell_type": "code",
   "execution_count": 79,
   "id": "1cad3786",
   "metadata": {},
   "outputs": [
    {
     "data": {
      "text/plain": [
       "0.39317644640838556"
      ]
     },
     "execution_count": 79,
     "metadata": {},
     "output_type": "execute_result"
    }
   ],
   "source": [
    "gnb.score(X_test_scaled, Y_test)"
   ]
  },
  {
   "cell_type": "code",
   "execution_count": 80,
   "id": "023b25b1",
   "metadata": {},
   "outputs": [
    {
     "name": "stdout",
     "output_type": "stream",
     "text": [
      "              precision    recall  f1-score   support\n",
      "\n",
      "           0       0.40      0.18      0.25      2457\n",
      "           1       0.30      0.16      0.21      2382\n",
      "           2       0.40      0.78      0.53      2498\n",
      "           3       0.42      0.43      0.43      2394\n",
      "\n",
      "    accuracy                           0.39      9731\n",
      "   macro avg       0.38      0.39      0.36      9731\n",
      "weighted avg       0.38      0.39      0.36      9731\n",
      "\n"
     ]
    }
   ],
   "source": [
    "print(classification_report(Y_test, Y_pred_gnb))"
   ]
  },
  {
   "cell_type": "markdown",
   "id": "3b4c6483",
   "metadata": {},
   "source": [
    "## Using Decision Tree"
   ]
  },
  {
   "cell_type": "code",
   "execution_count": 81,
   "id": "72b30ef4",
   "metadata": {},
   "outputs": [],
   "source": [
    "from sklearn.tree import DecisionTreeClassifier"
   ]
  },
  {
   "cell_type": "code",
   "execution_count": 82,
   "id": "a308f5d3",
   "metadata": {},
   "outputs": [],
   "source": [
    "dt = DecisionTreeClassifier(random_state=0).fit(X_train_scaled, Y_train)"
   ]
  },
  {
   "cell_type": "code",
   "execution_count": 83,
   "id": "8dd2638e",
   "metadata": {},
   "outputs": [
    {
     "data": {
      "text/plain": [
       "array([[ 878,  541,  413,  625],\n",
       "       [ 469,  718,  594,  601],\n",
       "       [ 434,  574, 1083,  407],\n",
       "       [ 593,  588,  389,  824]], dtype=int64)"
      ]
     },
     "execution_count": 83,
     "metadata": {},
     "output_type": "execute_result"
    }
   ],
   "source": [
    "Y_pred_dt = dt.predict(X_test_scaled)\n",
    "\n",
    "cnf_matrix_dt = metrics.confusion_matrix(Y_test, Y_pred_dt)\n",
    "cnf_matrix_dt"
   ]
  },
  {
   "cell_type": "code",
   "execution_count": 84,
   "id": "764a1be0",
   "metadata": {},
   "outputs": [
    {
     "data": {
      "text/plain": [
       "0.35998355770218887"
      ]
     },
     "execution_count": 84,
     "metadata": {},
     "output_type": "execute_result"
    }
   ],
   "source": [
    "dt.score(X_test_scaled, Y_test)"
   ]
  },
  {
   "cell_type": "code",
   "execution_count": 85,
   "id": "7bdb8bbb",
   "metadata": {},
   "outputs": [
    {
     "name": "stdout",
     "output_type": "stream",
     "text": [
      "              precision    recall  f1-score   support\n",
      "\n",
      "           0       0.37      0.36      0.36      2457\n",
      "           1       0.30      0.30      0.30      2382\n",
      "           2       0.44      0.43      0.44      2498\n",
      "           3       0.34      0.34      0.34      2394\n",
      "\n",
      "    accuracy                           0.36      9731\n",
      "   macro avg       0.36      0.36      0.36      9731\n",
      "weighted avg       0.36      0.36      0.36      9731\n",
      "\n"
     ]
    }
   ],
   "source": [
    "print(classification_report(Y_test, Y_pred_dt))"
   ]
  },
  {
   "cell_type": "markdown",
   "id": "58c193f9",
   "metadata": {},
   "source": [
    "## Using Random Forest"
   ]
  },
  {
   "cell_type": "code",
   "execution_count": 86,
   "id": "0beb5c9d",
   "metadata": {},
   "outputs": [],
   "source": [
    "from sklearn.ensemble import RandomForestClassifier\n",
    "\n",
    "rf = RandomForestClassifier(random_state=0).fit(X_train_scaled, Y_train)"
   ]
  },
  {
   "cell_type": "code",
   "execution_count": 87,
   "id": "f5aa634c",
   "metadata": {},
   "outputs": [
    {
     "data": {
      "text/plain": [
       "array([[1040,  397,  409,  611],\n",
       "       [ 443,  731,  625,  583],\n",
       "       [ 355,  452, 1407,  284],\n",
       "       [ 584,  519,  387,  904]], dtype=int64)"
      ]
     },
     "execution_count": 87,
     "metadata": {},
     "output_type": "execute_result"
    }
   ],
   "source": [
    "Y_pred_rf = rf.predict(X_test_scaled)\n",
    "\n",
    "cnf_matrix_rf = metrics.confusion_matrix(Y_test, Y_pred_rf)\n",
    "cnf_matrix_rf"
   ]
  },
  {
   "cell_type": "code",
   "execution_count": 88,
   "id": "49f65640",
   "metadata": {},
   "outputs": [
    {
     "data": {
      "text/plain": [
       "0.41948412290617615"
      ]
     },
     "execution_count": 88,
     "metadata": {},
     "output_type": "execute_result"
    }
   ],
   "source": [
    "rf.score(X_test_scaled, Y_test)"
   ]
  },
  {
   "cell_type": "code",
   "execution_count": 89,
   "id": "0af6917c",
   "metadata": {},
   "outputs": [
    {
     "name": "stdout",
     "output_type": "stream",
     "text": [
      "              precision    recall  f1-score   support\n",
      "\n",
      "           0       0.43      0.42      0.43      2457\n",
      "           1       0.35      0.31      0.33      2382\n",
      "           2       0.50      0.56      0.53      2498\n",
      "           3       0.38      0.38      0.38      2394\n",
      "\n",
      "    accuracy                           0.42      9731\n",
      "   macro avg       0.41      0.42      0.41      9731\n",
      "weighted avg       0.41      0.42      0.42      9731\n",
      "\n"
     ]
    }
   ],
   "source": [
    "print(classification_report(Y_test, Y_pred_rf))"
   ]
  },
  {
   "cell_type": "markdown",
   "id": "718b9dfa",
   "metadata": {},
   "source": [
    "## Using Deep Learning Methods"
   ]
  },
  {
   "cell_type": "markdown",
   "id": "aa247f5f",
   "metadata": {},
   "source": [
    "### ANN"
   ]
  },
  {
   "cell_type": "code",
   "execution_count": 25,
   "id": "8014a2f3",
   "metadata": {},
   "outputs": [],
   "source": [
    "import tensorflow as tf\n",
    "import matplotlib.pyplot as plt"
   ]
  },
  {
   "cell_type": "code",
   "execution_count": 16,
   "id": "e4788988",
   "metadata": {},
   "outputs": [],
   "source": [
    "# Hyperparameters for ANN \n",
    "num_classes = 4\n",
    "epochs = 150\n",
    "input_dimension = X_train.shape[1]\n",
    "batch_size = 64\n",
    "learning_rate = 0.001"
   ]
  },
  {
   "cell_type": "code",
   "execution_count": 17,
   "id": "72c786e7",
   "metadata": {},
   "outputs": [
    {
     "data": {
      "text/plain": [
       "array([2, 0, 2, ..., 1, 3, 2])"
      ]
     },
     "execution_count": 17,
     "metadata": {},
     "output_type": "execute_result"
    }
   ],
   "source": [
    "Y_train"
   ]
  },
  {
   "cell_type": "code",
   "execution_count": 18,
   "id": "3f33757a",
   "metadata": {},
   "outputs": [],
   "source": [
    "y_train_encoded = tf.keras.utils.to_categorical(Y_train, num_classes)\n",
    "y_test_encoded = tf.keras.utils.to_categorical(Y_test, num_classes)"
   ]
  },
  {
   "cell_type": "code",
   "execution_count": 19,
   "id": "51fb3633",
   "metadata": {},
   "outputs": [
    {
     "data": {
      "text/plain": [
       "array([[0., 0., 1., 0.],\n",
       "       [1., 0., 0., 0.],\n",
       "       [0., 0., 1., 0.],\n",
       "       ...,\n",
       "       [0., 1., 0., 0.],\n",
       "       [0., 0., 0., 1.],\n",
       "       [0., 0., 1., 0.]], dtype=float32)"
      ]
     },
     "execution_count": 19,
     "metadata": {},
     "output_type": "execute_result"
    }
   ],
   "source": [
    "y_train_encoded"
   ]
  },
  {
   "cell_type": "code",
   "execution_count": 20,
   "id": "ac737af9",
   "metadata": {},
   "outputs": [],
   "source": [
    "x_train_reshaped = np.expand_dims(X_train_scaled, axis=2)\n",
    "x_test_reshaped = np.expand_dims(X_test_scaled, axis=2)"
   ]
  },
  {
   "cell_type": "code",
   "execution_count": 21,
   "id": "0f187760",
   "metadata": {},
   "outputs": [],
   "source": [
    "# Callback function to avoid overfitting\n",
    "class myCallback(tf.keras.callbacks.Callback):\n",
    "    def on_epoch_end(self, epoch, logs={}):\n",
    "        if(logs.get('val_accuracy')>0.90) and (logs.get('accuracy')>0.95):\n",
    "            print(\"\\nValidation and training accuracies are high so cancelling training!\")\n",
    "            self.model.stop_training = True"
   ]
  },
  {
   "cell_type": "markdown",
   "id": "30918c13",
   "metadata": {},
   "source": [
    "##### Feed Forward Neural Network"
   ]
  },
  {
   "cell_type": "code",
   "execution_count": 22,
   "id": "a613bfc3",
   "metadata": {},
   "outputs": [],
   "source": [
    "# Architecture 1: 64-64-128-3 Feed Forward Neural Network\n",
    "# Defining the ANN architecture\n",
    "model = tf.keras.models.Sequential()\n",
    "model.add(tf.keras.layers.Dense(64, activation='relu', input_dim=input_dimension)) \n",
    "model.add(tf.keras.layers.Dense(64, activation='relu')) \n",
    "model.add(tf.keras.layers.Dense(128, activation='relu')) \n",
    "model.add(tf.keras.layers.Dropout(0.2))\n",
    "model.add(tf.keras.layers.Flatten()) \n",
    "model.add(tf.keras.layers.Dense(num_classes, activation='softmax')) \n",
    "# Model Compilation\n",
    "model.compile(optimizer=tf.keras.optimizers.Adam(learning_rate=learning_rate),\n",
    "              loss='categorical_crossentropy',\n",
    "              metrics=['accuracy'])\n",
    "# Stopping early to avoid overfitting\n",
    "stop_callback = myCallback()"
   ]
  },
  {
   "cell_type": "code",
   "execution_count": 23,
   "id": "b3c10e60",
   "metadata": {},
   "outputs": [
    {
     "name": "stdout",
     "output_type": "stream",
     "text": [
      "Epoch 1/150\n",
      "457/457 [==============================] - 4s 4ms/step - loss: 1.2605 - accuracy: 0.4053 - val_loss: 1.2443 - val_accuracy: 0.4247\n",
      "Epoch 2/150\n",
      "457/457 [==============================] - 2s 4ms/step - loss: 1.2465 - accuracy: 0.4154 - val_loss: 1.2429 - val_accuracy: 0.4259\n",
      "Epoch 3/150\n",
      "457/457 [==============================] - 2s 4ms/step - loss: 1.2428 - accuracy: 0.4189 - val_loss: 1.2403 - val_accuracy: 0.4295\n",
      "Epoch 4/150\n",
      "457/457 [==============================] - 2s 4ms/step - loss: 1.2404 - accuracy: 0.4218 - val_loss: 1.2380 - val_accuracy: 0.4270\n",
      "Epoch 5/150\n",
      "457/457 [==============================] - 2s 4ms/step - loss: 1.2386 - accuracy: 0.4252 - val_loss: 1.2386 - val_accuracy: 0.4304\n",
      "Epoch 6/150\n",
      "457/457 [==============================] - 2s 4ms/step - loss: 1.2360 - accuracy: 0.4276 - val_loss: 1.2374 - val_accuracy: 0.4303\n",
      "Epoch 7/150\n",
      "457/457 [==============================] - 2s 4ms/step - loss: 1.2343 - accuracy: 0.4246 - val_loss: 1.2399 - val_accuracy: 0.4278\n",
      "Epoch 8/150\n",
      "457/457 [==============================] - 2s 4ms/step - loss: 1.2315 - accuracy: 0.4261 - val_loss: 1.2393 - val_accuracy: 0.4269\n",
      "Epoch 9/150\n",
      "457/457 [==============================] - 2s 4ms/step - loss: 1.2300 - accuracy: 0.4270 - val_loss: 1.2371 - val_accuracy: 0.4306\n",
      "Epoch 10/150\n",
      "457/457 [==============================] - 2s 4ms/step - loss: 1.2291 - accuracy: 0.4272 - val_loss: 1.2356 - val_accuracy: 0.4301\n",
      "Epoch 11/150\n",
      "457/457 [==============================] - 2s 4ms/step - loss: 1.2276 - accuracy: 0.4294 - val_loss: 1.2348 - val_accuracy: 0.4319\n",
      "Epoch 12/150\n",
      "457/457 [==============================] - 2s 4ms/step - loss: 1.2279 - accuracy: 0.4272 - val_loss: 1.2330 - val_accuracy: 0.4352\n",
      "Epoch 13/150\n",
      "457/457 [==============================] - 2s 4ms/step - loss: 1.2259 - accuracy: 0.4288 - val_loss: 1.2358 - val_accuracy: 0.4288\n",
      "Epoch 14/150\n",
      "457/457 [==============================] - 2s 4ms/step - loss: 1.2248 - accuracy: 0.4305 - val_loss: 1.2332 - val_accuracy: 0.4341\n",
      "Epoch 15/150\n",
      "457/457 [==============================] - 2s 4ms/step - loss: 1.2246 - accuracy: 0.4315 - val_loss: 1.2335 - val_accuracy: 0.4317\n",
      "Epoch 16/150\n",
      "457/457 [==============================] - 2s 4ms/step - loss: 1.2237 - accuracy: 0.4324 - val_loss: 1.2313 - val_accuracy: 0.4314\n",
      "Epoch 17/150\n",
      "457/457 [==============================] - 2s 5ms/step - loss: 1.2237 - accuracy: 0.4323 - val_loss: 1.2307 - val_accuracy: 0.4319\n",
      "Epoch 18/150\n",
      "457/457 [==============================] - 2s 4ms/step - loss: 1.2221 - accuracy: 0.4317 - val_loss: 1.2302 - val_accuracy: 0.4355\n",
      "Epoch 19/150\n",
      "457/457 [==============================] - 2s 4ms/step - loss: 1.2220 - accuracy: 0.4332 - val_loss: 1.2279 - val_accuracy: 0.4363\n",
      "Epoch 20/150\n",
      "457/457 [==============================] - 2s 4ms/step - loss: 1.2216 - accuracy: 0.4358 - val_loss: 1.2285 - val_accuracy: 0.4355\n",
      "Epoch 21/150\n",
      "457/457 [==============================] - 2s 4ms/step - loss: 1.2210 - accuracy: 0.4359 - val_loss: 1.2304 - val_accuracy: 0.4314\n",
      "Epoch 22/150\n",
      "457/457 [==============================] - 2s 4ms/step - loss: 1.2190 - accuracy: 0.4365 - val_loss: 1.2294 - val_accuracy: 0.4389\n",
      "Epoch 23/150\n",
      "457/457 [==============================] - 2s 4ms/step - loss: 1.2193 - accuracy: 0.4337 - val_loss: 1.2311 - val_accuracy: 0.4349\n",
      "Epoch 24/150\n",
      "457/457 [==============================] - 2s 4ms/step - loss: 1.2188 - accuracy: 0.4349 - val_loss: 1.2308 - val_accuracy: 0.4344\n",
      "Epoch 25/150\n",
      "457/457 [==============================] - 2s 4ms/step - loss: 1.2179 - accuracy: 0.4354 - val_loss: 1.2293 - val_accuracy: 0.4340\n",
      "Epoch 26/150\n",
      "457/457 [==============================] - 2s 4ms/step - loss: 1.2179 - accuracy: 0.4369 - val_loss: 1.2304 - val_accuracy: 0.4303\n",
      "Epoch 27/150\n",
      "457/457 [==============================] - 2s 4ms/step - loss: 1.2172 - accuracy: 0.4359 - val_loss: 1.2285 - val_accuracy: 0.4398\n",
      "Epoch 28/150\n",
      "457/457 [==============================] - 2s 4ms/step - loss: 1.2169 - accuracy: 0.4351 - val_loss: 1.2274 - val_accuracy: 0.4383\n",
      "Epoch 29/150\n",
      "457/457 [==============================] - 2s 4ms/step - loss: 1.2163 - accuracy: 0.4379 - val_loss: 1.2287 - val_accuracy: 0.4353\n",
      "Epoch 30/150\n",
      "457/457 [==============================] - 2s 4ms/step - loss: 1.2148 - accuracy: 0.4369 - val_loss: 1.2269 - val_accuracy: 0.4369\n",
      "Epoch 31/150\n",
      "457/457 [==============================] - 2s 4ms/step - loss: 1.2159 - accuracy: 0.4363 - val_loss: 1.2284 - val_accuracy: 0.4375\n",
      "Epoch 32/150\n",
      "457/457 [==============================] - 2s 4ms/step - loss: 1.2147 - accuracy: 0.4380 - val_loss: 1.2301 - val_accuracy: 0.4290\n",
      "Epoch 33/150\n",
      "457/457 [==============================] - 2s 4ms/step - loss: 1.2148 - accuracy: 0.4374 - val_loss: 1.2290 - val_accuracy: 0.4355\n",
      "Epoch 34/150\n",
      "457/457 [==============================] - 2s 4ms/step - loss: 1.2142 - accuracy: 0.4374 - val_loss: 1.2264 - val_accuracy: 0.4369\n",
      "Epoch 35/150\n",
      "457/457 [==============================] - 2s 4ms/step - loss: 1.2140 - accuracy: 0.4408 - val_loss: 1.2272 - val_accuracy: 0.4341\n",
      "Epoch 36/150\n",
      "457/457 [==============================] - 2s 4ms/step - loss: 1.2126 - accuracy: 0.4400 - val_loss: 1.2277 - val_accuracy: 0.4376\n",
      "Epoch 37/150\n",
      "457/457 [==============================] - 2s 4ms/step - loss: 1.2129 - accuracy: 0.4399 - val_loss: 1.2285 - val_accuracy: 0.4337\n",
      "Epoch 38/150\n",
      "457/457 [==============================] - 2s 4ms/step - loss: 1.2122 - accuracy: 0.4377 - val_loss: 1.2301 - val_accuracy: 0.4320\n",
      "Epoch 39/150\n",
      "457/457 [==============================] - 2s 4ms/step - loss: 1.2119 - accuracy: 0.4393 - val_loss: 1.2281 - val_accuracy: 0.4301\n",
      "Epoch 40/150\n",
      "457/457 [==============================] - 2s 4ms/step - loss: 1.2112 - accuracy: 0.4397 - val_loss: 1.2283 - val_accuracy: 0.4364\n",
      "Epoch 41/150\n",
      "457/457 [==============================] - 2s 4ms/step - loss: 1.2109 - accuracy: 0.4413 - val_loss: 1.2261 - val_accuracy: 0.4353\n",
      "Epoch 42/150\n",
      "457/457 [==============================] - 2s 4ms/step - loss: 1.2105 - accuracy: 0.4398 - val_loss: 1.2251 - val_accuracy: 0.4355\n",
      "Epoch 43/150\n",
      "457/457 [==============================] - 2s 4ms/step - loss: 1.2100 - accuracy: 0.4420 - val_loss: 1.2276 - val_accuracy: 0.4329\n",
      "Epoch 44/150\n",
      "457/457 [==============================] - 2s 4ms/step - loss: 1.2091 - accuracy: 0.4442 - val_loss: 1.2263 - val_accuracy: 0.4336\n",
      "Epoch 45/150\n",
      "457/457 [==============================] - 2s 4ms/step - loss: 1.2087 - accuracy: 0.4421 - val_loss: 1.2250 - val_accuracy: 0.4408\n",
      "Epoch 46/150\n",
      "457/457 [==============================] - 2s 4ms/step - loss: 1.2099 - accuracy: 0.4409 - val_loss: 1.2264 - val_accuracy: 0.4373\n",
      "Epoch 47/150\n",
      "457/457 [==============================] - 2s 4ms/step - loss: 1.2088 - accuracy: 0.4404 - val_loss: 1.2249 - val_accuracy: 0.4365\n",
      "Epoch 48/150\n",
      "457/457 [==============================] - 2s 4ms/step - loss: 1.2095 - accuracy: 0.4423 - val_loss: 1.2257 - val_accuracy: 0.4349\n",
      "Epoch 49/150\n",
      "457/457 [==============================] - 2s 4ms/step - loss: 1.2078 - accuracy: 0.4423 - val_loss: 1.2259 - val_accuracy: 0.4364\n",
      "Epoch 50/150\n",
      "457/457 [==============================] - 2s 4ms/step - loss: 1.2069 - accuracy: 0.4415 - val_loss: 1.2256 - val_accuracy: 0.4375\n",
      "Epoch 51/150\n",
      "457/457 [==============================] - 2s 4ms/step - loss: 1.2080 - accuracy: 0.4398 - val_loss: 1.2252 - val_accuracy: 0.4365\n",
      "Epoch 52/150\n",
      "457/457 [==============================] - 2s 4ms/step - loss: 1.2058 - accuracy: 0.4447 - val_loss: 1.2267 - val_accuracy: 0.4370\n",
      "Epoch 53/150\n",
      "457/457 [==============================] - 2s 4ms/step - loss: 1.2068 - accuracy: 0.4425 - val_loss: 1.2262 - val_accuracy: 0.4324\n",
      "Epoch 54/150\n",
      "457/457 [==============================] - 2s 4ms/step - loss: 1.2067 - accuracy: 0.4429 - val_loss: 1.2261 - val_accuracy: 0.4356\n",
      "Epoch 55/150\n",
      "457/457 [==============================] - 2s 4ms/step - loss: 1.2062 - accuracy: 0.4413 - val_loss: 1.2255 - val_accuracy: 0.4330\n",
      "Epoch 56/150\n",
      "457/457 [==============================] - 2s 4ms/step - loss: 1.2058 - accuracy: 0.4453 - val_loss: 1.2259 - val_accuracy: 0.4353\n",
      "Epoch 57/150\n",
      "457/457 [==============================] - 2s 4ms/step - loss: 1.2056 - accuracy: 0.4461 - val_loss: 1.2238 - val_accuracy: 0.4361\n"
     ]
    },
    {
     "name": "stdout",
     "output_type": "stream",
     "text": [
      "Epoch 58/150\n",
      "457/457 [==============================] - 2s 4ms/step - loss: 1.2052 - accuracy: 0.4443 - val_loss: 1.2255 - val_accuracy: 0.4351\n",
      "Epoch 59/150\n",
      "457/457 [==============================] - 2s 4ms/step - loss: 1.2047 - accuracy: 0.4443 - val_loss: 1.2244 - val_accuracy: 0.4372\n",
      "Epoch 60/150\n",
      "457/457 [==============================] - 2s 4ms/step - loss: 1.2050 - accuracy: 0.4426 - val_loss: 1.2241 - val_accuracy: 0.4338\n",
      "Epoch 61/150\n",
      "457/457 [==============================] - 2s 4ms/step - loss: 1.2043 - accuracy: 0.4451 - val_loss: 1.2256 - val_accuracy: 0.4357\n",
      "Epoch 62/150\n",
      "457/457 [==============================] - 2s 4ms/step - loss: 1.2026 - accuracy: 0.4449 - val_loss: 1.2266 - val_accuracy: 0.4347\n",
      "Epoch 63/150\n",
      "457/457 [==============================] - 2s 4ms/step - loss: 1.2032 - accuracy: 0.4424 - val_loss: 1.2243 - val_accuracy: 0.4344\n",
      "Epoch 64/150\n",
      "457/457 [==============================] - 2s 4ms/step - loss: 1.2016 - accuracy: 0.4464 - val_loss: 1.2289 - val_accuracy: 0.4321\n",
      "Epoch 65/150\n",
      "457/457 [==============================] - 2s 4ms/step - loss: 1.2022 - accuracy: 0.4461 - val_loss: 1.2238 - val_accuracy: 0.4351\n",
      "Epoch 66/150\n",
      "457/457 [==============================] - 2s 4ms/step - loss: 1.2021 - accuracy: 0.4455 - val_loss: 1.2256 - val_accuracy: 0.4359\n",
      "Epoch 67/150\n",
      "457/457 [==============================] - 2s 4ms/step - loss: 1.2021 - accuracy: 0.4439 - val_loss: 1.2245 - val_accuracy: 0.4303\n",
      "Epoch 68/150\n",
      "457/457 [==============================] - 2s 4ms/step - loss: 1.2014 - accuracy: 0.4462 - val_loss: 1.2254 - val_accuracy: 0.4377\n",
      "Epoch 69/150\n",
      "457/457 [==============================] - 2s 4ms/step - loss: 1.1997 - accuracy: 0.4469 - val_loss: 1.2235 - val_accuracy: 0.4378\n",
      "Epoch 70/150\n",
      "457/457 [==============================] - 2s 4ms/step - loss: 1.2011 - accuracy: 0.4466 - val_loss: 1.2255 - val_accuracy: 0.4346\n",
      "Epoch 71/150\n",
      "457/457 [==============================] - 2s 4ms/step - loss: 1.2004 - accuracy: 0.4484 - val_loss: 1.2223 - val_accuracy: 0.4318\n",
      "Epoch 72/150\n",
      "457/457 [==============================] - 2s 4ms/step - loss: 1.2005 - accuracy: 0.4470 - val_loss: 1.2266 - val_accuracy: 0.4334\n",
      "Epoch 73/150\n",
      "457/457 [==============================] - 2s 4ms/step - loss: 1.1997 - accuracy: 0.4493 - val_loss: 1.2269 - val_accuracy: 0.4344\n",
      "Epoch 74/150\n",
      "457/457 [==============================] - 2s 4ms/step - loss: 1.1995 - accuracy: 0.4470 - val_loss: 1.2274 - val_accuracy: 0.4309\n",
      "Epoch 75/150\n",
      "457/457 [==============================] - 2s 4ms/step - loss: 1.1986 - accuracy: 0.4463 - val_loss: 1.2236 - val_accuracy: 0.4351\n",
      "Epoch 76/150\n",
      "457/457 [==============================] - 2s 4ms/step - loss: 1.1976 - accuracy: 0.4484 - val_loss: 1.2257 - val_accuracy: 0.4347\n",
      "Epoch 77/150\n",
      "457/457 [==============================] - 2s 4ms/step - loss: 1.1978 - accuracy: 0.4491 - val_loss: 1.2239 - val_accuracy: 0.4370\n",
      "Epoch 78/150\n",
      "457/457 [==============================] - 2s 4ms/step - loss: 1.1986 - accuracy: 0.4457 - val_loss: 1.2261 - val_accuracy: 0.4327\n",
      "Epoch 79/150\n",
      "457/457 [==============================] - 2s 4ms/step - loss: 1.1976 - accuracy: 0.4493 - val_loss: 1.2254 - val_accuracy: 0.4378\n",
      "Epoch 80/150\n",
      "457/457 [==============================] - 2s 4ms/step - loss: 1.1975 - accuracy: 0.4483 - val_loss: 1.2279 - val_accuracy: 0.4360\n",
      "Epoch 81/150\n",
      "457/457 [==============================] - 2s 4ms/step - loss: 1.1980 - accuracy: 0.4487 - val_loss: 1.2243 - val_accuracy: 0.4347\n",
      "Epoch 82/150\n",
      "457/457 [==============================] - 2s 4ms/step - loss: 1.1972 - accuracy: 0.4487 - val_loss: 1.2236 - val_accuracy: 0.4358\n",
      "Epoch 83/150\n",
      "457/457 [==============================] - 2s 4ms/step - loss: 1.1967 - accuracy: 0.4485 - val_loss: 1.2258 - val_accuracy: 0.4340\n",
      "Epoch 84/150\n",
      "457/457 [==============================] - 2s 5ms/step - loss: 1.1965 - accuracy: 0.4495 - val_loss: 1.2246 - val_accuracy: 0.4372\n",
      "Epoch 85/150\n",
      "457/457 [==============================] - 2s 4ms/step - loss: 1.1962 - accuracy: 0.4514 - val_loss: 1.2241 - val_accuracy: 0.4326\n",
      "Epoch 86/150\n",
      "457/457 [==============================] - 2s 4ms/step - loss: 1.1950 - accuracy: 0.4483 - val_loss: 1.2253 - val_accuracy: 0.4322\n",
      "Epoch 87/150\n",
      "457/457 [==============================] - 2s 4ms/step - loss: 1.1963 - accuracy: 0.4486 - val_loss: 1.2262 - val_accuracy: 0.4380\n",
      "Epoch 88/150\n",
      "457/457 [==============================] - 2s 4ms/step - loss: 1.1953 - accuracy: 0.4475 - val_loss: 1.2271 - val_accuracy: 0.4299\n",
      "Epoch 89/150\n",
      "457/457 [==============================] - 2s 4ms/step - loss: 1.1954 - accuracy: 0.4502 - val_loss: 1.2255 - val_accuracy: 0.4335\n",
      "Epoch 90/150\n",
      "457/457 [==============================] - 2s 4ms/step - loss: 1.1945 - accuracy: 0.4491 - val_loss: 1.2252 - val_accuracy: 0.4310\n",
      "Epoch 91/150\n",
      "457/457 [==============================] - 2s 4ms/step - loss: 1.1945 - accuracy: 0.4502 - val_loss: 1.2259 - val_accuracy: 0.4364\n",
      "Epoch 92/150\n",
      "457/457 [==============================] - 2s 4ms/step - loss: 1.1933 - accuracy: 0.4509 - val_loss: 1.2259 - val_accuracy: 0.4333\n",
      "Epoch 93/150\n",
      "457/457 [==============================] - 2s 4ms/step - loss: 1.1928 - accuracy: 0.4502 - val_loss: 1.2241 - val_accuracy: 0.4338\n",
      "Epoch 94/150\n",
      "457/457 [==============================] - 2s 4ms/step - loss: 1.1927 - accuracy: 0.4519 - val_loss: 1.2263 - val_accuracy: 0.4341\n",
      "Epoch 95/150\n",
      "457/457 [==============================] - 2s 4ms/step - loss: 1.1939 - accuracy: 0.4506 - val_loss: 1.2264 - val_accuracy: 0.4347\n",
      "Epoch 96/150\n",
      "457/457 [==============================] - 2s 4ms/step - loss: 1.1936 - accuracy: 0.4492 - val_loss: 1.2234 - val_accuracy: 0.4369\n",
      "Epoch 97/150\n",
      "457/457 [==============================] - 2s 4ms/step - loss: 1.1936 - accuracy: 0.4525 - val_loss: 1.2248 - val_accuracy: 0.4326\n",
      "Epoch 98/150\n",
      "457/457 [==============================] - 2s 4ms/step - loss: 1.1940 - accuracy: 0.4488 - val_loss: 1.2237 - val_accuracy: 0.4349\n",
      "Epoch 99/150\n",
      "457/457 [==============================] - 2s 4ms/step - loss: 1.1917 - accuracy: 0.4504 - val_loss: 1.2265 - val_accuracy: 0.4306\n",
      "Epoch 100/150\n",
      "457/457 [==============================] - 2s 4ms/step - loss: 1.1916 - accuracy: 0.4505 - val_loss: 1.2283 - val_accuracy: 0.4335\n",
      "Epoch 101/150\n",
      "457/457 [==============================] - 2s 4ms/step - loss: 1.1913 - accuracy: 0.4524 - val_loss: 1.2251 - val_accuracy: 0.4333\n",
      "Epoch 102/150\n",
      "457/457 [==============================] - 2s 4ms/step - loss: 1.1915 - accuracy: 0.4551 - val_loss: 1.2234 - val_accuracy: 0.4358\n",
      "Epoch 103/150\n",
      "457/457 [==============================] - 2s 4ms/step - loss: 1.1895 - accuracy: 0.4533 - val_loss: 1.2296 - val_accuracy: 0.4342\n",
      "Epoch 104/150\n",
      "457/457 [==============================] - 2s 4ms/step - loss: 1.1918 - accuracy: 0.4532 - val_loss: 1.2250 - val_accuracy: 0.4322\n",
      "Epoch 105/150\n",
      "457/457 [==============================] - 2s 4ms/step - loss: 1.1910 - accuracy: 0.4518 - val_loss: 1.2273 - val_accuracy: 0.4316\n",
      "Epoch 106/150\n",
      "457/457 [==============================] - 2s 4ms/step - loss: 1.1905 - accuracy: 0.4503 - val_loss: 1.2302 - val_accuracy: 0.4324\n",
      "Epoch 107/150\n",
      "457/457 [==============================] - 2s 4ms/step - loss: 1.1900 - accuracy: 0.4526 - val_loss: 1.2251 - val_accuracy: 0.4326\n",
      "Epoch 108/150\n",
      "457/457 [==============================] - 2s 4ms/step - loss: 1.1905 - accuracy: 0.4533 - val_loss: 1.2259 - val_accuracy: 0.4359\n",
      "Epoch 109/150\n",
      "457/457 [==============================] - 2s 4ms/step - loss: 1.1897 - accuracy: 0.4516 - val_loss: 1.2292 - val_accuracy: 0.4348\n",
      "Epoch 110/150\n",
      "457/457 [==============================] - 2s 4ms/step - loss: 1.1898 - accuracy: 0.4540 - val_loss: 1.2238 - val_accuracy: 0.4374\n",
      "Epoch 111/150\n",
      "457/457 [==============================] - 2s 4ms/step - loss: 1.1881 - accuracy: 0.4551 - val_loss: 1.2252 - val_accuracy: 0.4325\n",
      "Epoch 112/150\n",
      "457/457 [==============================] - 2s 4ms/step - loss: 1.1879 - accuracy: 0.4524 - val_loss: 1.2236 - val_accuracy: 0.4323\n",
      "Epoch 113/150\n",
      "457/457 [==============================] - 2s 4ms/step - loss: 1.1878 - accuracy: 0.4563 - val_loss: 1.2246 - val_accuracy: 0.4353\n",
      "Epoch 114/150\n",
      "457/457 [==============================] - 2s 4ms/step - loss: 1.1878 - accuracy: 0.4532 - val_loss: 1.2292 - val_accuracy: 0.4284\n"
     ]
    },
    {
     "name": "stdout",
     "output_type": "stream",
     "text": [
      "Epoch 115/150\n",
      "457/457 [==============================] - 2s 4ms/step - loss: 1.1864 - accuracy: 0.4537 - val_loss: 1.2245 - val_accuracy: 0.4333\n",
      "Epoch 116/150\n",
      "457/457 [==============================] - 2s 4ms/step - loss: 1.1877 - accuracy: 0.4563 - val_loss: 1.2235 - val_accuracy: 0.4341\n",
      "Epoch 117/150\n",
      "457/457 [==============================] - 2s 4ms/step - loss: 1.1873 - accuracy: 0.4546 - val_loss: 1.2230 - val_accuracy: 0.4367\n",
      "Epoch 118/150\n",
      "457/457 [==============================] - 2s 4ms/step - loss: 1.1876 - accuracy: 0.4544 - val_loss: 1.2236 - val_accuracy: 0.4344\n",
      "Epoch 119/150\n",
      "457/457 [==============================] - 2s 4ms/step - loss: 1.1860 - accuracy: 0.4525 - val_loss: 1.2232 - val_accuracy: 0.4387\n",
      "Epoch 120/150\n",
      "457/457 [==============================] - 2s 4ms/step - loss: 1.1866 - accuracy: 0.4561 - val_loss: 1.2283 - val_accuracy: 0.4361\n",
      "Epoch 121/150\n",
      "457/457 [==============================] - 2s 4ms/step - loss: 1.1853 - accuracy: 0.4553 - val_loss: 1.2261 - val_accuracy: 0.4359\n",
      "Epoch 122/150\n",
      "457/457 [==============================] - 2s 4ms/step - loss: 1.1855 - accuracy: 0.4566 - val_loss: 1.2264 - val_accuracy: 0.4363\n",
      "Epoch 123/150\n",
      "457/457 [==============================] - 2s 4ms/step - loss: 1.1856 - accuracy: 0.4542 - val_loss: 1.2260 - val_accuracy: 0.4367\n",
      "Epoch 124/150\n",
      "457/457 [==============================] - 2s 4ms/step - loss: 1.1861 - accuracy: 0.4546 - val_loss: 1.2249 - val_accuracy: 0.4348\n",
      "Epoch 125/150\n",
      "457/457 [==============================] - 2s 4ms/step - loss: 1.1848 - accuracy: 0.4547 - val_loss: 1.2281 - val_accuracy: 0.4335\n",
      "Epoch 126/150\n",
      "457/457 [==============================] - 2s 4ms/step - loss: 1.1859 - accuracy: 0.4536 - val_loss: 1.2292 - val_accuracy: 0.4330\n",
      "Epoch 127/150\n",
      "457/457 [==============================] - 2s 4ms/step - loss: 1.1842 - accuracy: 0.4542 - val_loss: 1.2249 - val_accuracy: 0.4355\n",
      "Epoch 128/150\n",
      "457/457 [==============================] - 2s 4ms/step - loss: 1.1855 - accuracy: 0.4556 - val_loss: 1.2254 - val_accuracy: 0.4354\n",
      "Epoch 129/150\n",
      "457/457 [==============================] - 2s 4ms/step - loss: 1.1844 - accuracy: 0.4569 - val_loss: 1.2268 - val_accuracy: 0.4342\n",
      "Epoch 130/150\n",
      "457/457 [==============================] - 2s 4ms/step - loss: 1.1849 - accuracy: 0.4566 - val_loss: 1.2286 - val_accuracy: 0.4324\n",
      "Epoch 131/150\n",
      "457/457 [==============================] - 2s 4ms/step - loss: 1.1837 - accuracy: 0.4559 - val_loss: 1.2273 - val_accuracy: 0.4324\n",
      "Epoch 132/150\n",
      "457/457 [==============================] - 2s 4ms/step - loss: 1.1833 - accuracy: 0.4566 - val_loss: 1.2262 - val_accuracy: 0.4314\n",
      "Epoch 133/150\n",
      "457/457 [==============================] - 2s 4ms/step - loss: 1.1830 - accuracy: 0.4576 - val_loss: 1.2307 - val_accuracy: 0.4359\n",
      "Epoch 134/150\n",
      "457/457 [==============================] - 2s 4ms/step - loss: 1.1816 - accuracy: 0.4567 - val_loss: 1.2267 - val_accuracy: 0.4300\n",
      "Epoch 135/150\n",
      "457/457 [==============================] - 2s 4ms/step - loss: 1.1839 - accuracy: 0.4564 - val_loss: 1.2248 - val_accuracy: 0.4388\n",
      "Epoch 136/150\n",
      "457/457 [==============================] - 2s 4ms/step - loss: 1.1828 - accuracy: 0.4559 - val_loss: 1.2303 - val_accuracy: 0.4320\n",
      "Epoch 137/150\n",
      "457/457 [==============================] - 2s 4ms/step - loss: 1.1824 - accuracy: 0.4585 - val_loss: 1.2280 - val_accuracy: 0.4346\n",
      "Epoch 138/150\n",
      "457/457 [==============================] - 2s 4ms/step - loss: 1.1818 - accuracy: 0.4578 - val_loss: 1.2283 - val_accuracy: 0.4354\n",
      "Epoch 139/150\n",
      "457/457 [==============================] - 2s 5ms/step - loss: 1.1824 - accuracy: 0.4570 - val_loss: 1.2266 - val_accuracy: 0.4383\n",
      "Epoch 140/150\n",
      "457/457 [==============================] - 2s 5ms/step - loss: 1.1796 - accuracy: 0.4596 - val_loss: 1.2293 - val_accuracy: 0.4364\n",
      "Epoch 141/150\n",
      "457/457 [==============================] - 2s 4ms/step - loss: 1.1820 - accuracy: 0.4560 - val_loss: 1.2292 - val_accuracy: 0.4355\n",
      "Epoch 142/150\n",
      "457/457 [==============================] - 2s 4ms/step - loss: 1.1801 - accuracy: 0.4578 - val_loss: 1.2261 - val_accuracy: 0.4367\n",
      "Epoch 143/150\n",
      "457/457 [==============================] - 2s 4ms/step - loss: 1.1813 - accuracy: 0.4591 - val_loss: 1.2273 - val_accuracy: 0.4330\n",
      "Epoch 144/150\n",
      "457/457 [==============================] - 2s 4ms/step - loss: 1.1808 - accuracy: 0.4595 - val_loss: 1.2314 - val_accuracy: 0.4334\n",
      "Epoch 145/150\n",
      "457/457 [==============================] - 2s 4ms/step - loss: 1.1802 - accuracy: 0.4598 - val_loss: 1.2260 - val_accuracy: 0.4360\n",
      "Epoch 146/150\n",
      "457/457 [==============================] - 2s 4ms/step - loss: 1.1797 - accuracy: 0.4582 - val_loss: 1.2254 - val_accuracy: 0.4350\n",
      "Epoch 147/150\n",
      "457/457 [==============================] - 2s 4ms/step - loss: 1.1771 - accuracy: 0.4581 - val_loss: 1.2281 - val_accuracy: 0.4386\n",
      "Epoch 148/150\n",
      "457/457 [==============================] - 2s 4ms/step - loss: 1.1785 - accuracy: 0.4608 - val_loss: 1.2288 - val_accuracy: 0.4306\n",
      "Epoch 149/150\n",
      "457/457 [==============================] - 2s 4ms/step - loss: 1.1795 - accuracy: 0.4576 - val_loss: 1.2256 - val_accuracy: 0.4357\n",
      "Epoch 150/150\n",
      "457/457 [==============================] - 2s 4ms/step - loss: 1.1774 - accuracy: 0.4612 - val_loss: 1.2269 - val_accuracy: 0.4362\n"
     ]
    }
   ],
   "source": [
    "# Training\n",
    "history = model.fit(x_train_reshaped, y_train_encoded, epochs=epochs, batch_size=batch_size, validation_data=(x_test_reshaped, y_test_encoded), callbacks=[stop_callback])"
   ]
  },
  {
   "cell_type": "code",
   "execution_count": 26,
   "id": "5cf27e8b",
   "metadata": {},
   "outputs": [
    {
     "data": {
      "image/png": "[encoded data removed]",
      "text/plain": [
       "<Figure size 1280x480 with 2 Axes>"
      ]
     },
     "metadata": {},
     "output_type": "display_data"
    }
   ],
   "source": [
    "# Plotting training and testing curves\n",
    "default_size = plt.rcParams['figure.figsize']\n",
    "fig = plt.figure(figsize=[default_size[0] * 2, default_size[1]])\n",
    "\n",
    "fig.add_subplot(1, 2, 1)\n",
    "plt.plot(history.history['accuracy'], label = 'accuracy')          # Train accuracy (blue)\n",
    "plt.plot(history.history['val_accuracy'], label = 'val_accuracy')  # Valid accuracy (orange)\n",
    "plt.xlabel('Epoch')\n",
    "plt.ylabel('Accuracy')\n",
    "plt.title('Accuracy')\n",
    "plt.legend(loc='lower right')\n",
    "\n",
    "fig.add_subplot(1, 2, 2)\n",
    "plt.plot(history.history['loss'], label='loss')          # Train loss (blue)\n",
    "plt.plot(history.history['val_loss'], label='val_loss')  # Valid loss (orange)\n",
    "plt.xlabel('Epoch')\n",
    "plt.ylabel('Loss')\n",
    "plt.title('Loss')\n",
    "plt.legend(loc='upper right')\n",
    "plt.show()"
   ]
  },
  {
   "cell_type": "code",
   "execution_count": 28,
   "id": "571de474",
   "metadata": {},
   "outputs": [
    {
     "name": "stdout",
     "output_type": "stream",
     "text": [
      "Epoch 1/150\n",
      "457/457 [==============================] - 2s 4ms/step - loss: 1.3936 - accuracy: 0.2310 - val_loss: 1.3739 - val_accuracy: 0.3386\n",
      "Epoch 2/150\n",
      "457/457 [==============================] - 1s 3ms/step - loss: 1.3642 - accuracy: 0.3351 - val_loss: 1.3503 - val_accuracy: 0.3802\n",
      "Epoch 3/150\n",
      "457/457 [==============================] - 2s 3ms/step - loss: 1.3436 - accuracy: 0.3722 - val_loss: 1.3323 - val_accuracy: 0.3887\n",
      "Epoch 4/150\n",
      "457/457 [==============================] - 1s 3ms/step - loss: 1.3280 - accuracy: 0.3834 - val_loss: 1.3182 - val_accuracy: 0.3923\n",
      "Epoch 5/150\n",
      "457/457 [==============================] - 1s 3ms/step - loss: 1.3144 - accuracy: 0.3881 - val_loss: 1.3067 - val_accuracy: 0.3925\n",
      "Epoch 6/150\n",
      "457/457 [==============================] - 1s 3ms/step - loss: 1.3050 - accuracy: 0.3917 - val_loss: 1.2974 - val_accuracy: 0.3969\n",
      "Epoch 7/150\n",
      "457/457 [==============================] - 1s 3ms/step - loss: 1.2960 - accuracy: 0.3928 - val_loss: 1.2898 - val_accuracy: 0.3983\n",
      "Epoch 8/150\n",
      "457/457 [==============================] - 1s 3ms/step - loss: 1.2889 - accuracy: 0.3971 - val_loss: 1.2836 - val_accuracy: 0.4003\n",
      "Epoch 9/150\n",
      "457/457 [==============================] - 1s 3ms/step - loss: 1.2837 - accuracy: 0.3968 - val_loss: 1.2784 - val_accuracy: 0.4025\n",
      "Epoch 10/150\n",
      "457/457 [==============================] - 1s 3ms/step - loss: 1.2796 - accuracy: 0.3984 - val_loss: 1.2742 - val_accuracy: 0.4047\n",
      "Epoch 11/150\n",
      "457/457 [==============================] - 1s 3ms/step - loss: 1.2754 - accuracy: 0.3991 - val_loss: 1.2708 - val_accuracy: 0.4053\n",
      "Epoch 12/150\n",
      "457/457 [==============================] - 1s 3ms/step - loss: 1.2723 - accuracy: 0.3993 - val_loss: 1.2679 - val_accuracy: 0.4074\n",
      "Epoch 13/150\n",
      "457/457 [==============================] - 1s 3ms/step - loss: 1.2697 - accuracy: 0.4028 - val_loss: 1.2655 - val_accuracy: 0.4062\n",
      "Epoch 14/150\n",
      "457/457 [==============================] - 1s 3ms/step - loss: 1.2676 - accuracy: 0.4025 - val_loss: 1.2636 - val_accuracy: 0.4074\n",
      "Epoch 15/150\n",
      "457/457 [==============================] - 1s 3ms/step - loss: 1.2660 - accuracy: 0.4036 - val_loss: 1.2619 - val_accuracy: 0.4090\n",
      "Epoch 16/150\n",
      "457/457 [==============================] - 1s 3ms/step - loss: 1.2649 - accuracy: 0.4028 - val_loss: 1.2605 - val_accuracy: 0.4091\n",
      "Epoch 17/150\n",
      "457/457 [==============================] - 2s 3ms/step - loss: 1.2633 - accuracy: 0.4045 - val_loss: 1.2592 - val_accuracy: 0.4107\n",
      "Epoch 18/150\n",
      "457/457 [==============================] - 1s 3ms/step - loss: 1.2614 - accuracy: 0.4065 - val_loss: 1.2582 - val_accuracy: 0.4110\n",
      "Epoch 19/150\n",
      "457/457 [==============================] - 1s 3ms/step - loss: 1.2608 - accuracy: 0.4072 - val_loss: 1.2572 - val_accuracy: 0.4119\n",
      "Epoch 20/150\n",
      "457/457 [==============================] - 1s 3ms/step - loss: 1.2603 - accuracy: 0.4060 - val_loss: 1.2564 - val_accuracy: 0.4131\n",
      "Epoch 21/150\n",
      "457/457 [==============================] - 1s 3ms/step - loss: 1.2591 - accuracy: 0.4081 - val_loss: 1.2556 - val_accuracy: 0.4141\n",
      "Epoch 22/150\n",
      "457/457 [==============================] - 1s 3ms/step - loss: 1.2591 - accuracy: 0.4077 - val_loss: 1.2549 - val_accuracy: 0.4142\n",
      "Epoch 23/150\n",
      "457/457 [==============================] - 1s 3ms/step - loss: 1.2576 - accuracy: 0.4110 - val_loss: 1.2543 - val_accuracy: 0.4150\n",
      "Epoch 24/150\n",
      "457/457 [==============================] - 1s 3ms/step - loss: 1.2571 - accuracy: 0.4112 - val_loss: 1.2537 - val_accuracy: 0.4151\n",
      "Epoch 25/150\n",
      "457/457 [==============================] - 1s 3ms/step - loss: 1.2568 - accuracy: 0.4101 - val_loss: 1.2532 - val_accuracy: 0.4161\n",
      "Epoch 26/150\n",
      "457/457 [==============================] - 2s 3ms/step - loss: 1.2559 - accuracy: 0.4097 - val_loss: 1.2528 - val_accuracy: 0.4168\n",
      "Epoch 27/150\n",
      "457/457 [==============================] - 2s 3ms/step - loss: 1.2557 - accuracy: 0.4080 - val_loss: 1.2523 - val_accuracy: 0.4162\n",
      "Epoch 28/150\n",
      "457/457 [==============================] - 1s 3ms/step - loss: 1.2554 - accuracy: 0.4109 - val_loss: 1.2519 - val_accuracy: 0.4166\n",
      "Epoch 29/150\n",
      "457/457 [==============================] - 1s 3ms/step - loss: 1.2552 - accuracy: 0.4084 - val_loss: 1.2515 - val_accuracy: 0.4170\n",
      "Epoch 30/150\n",
      "457/457 [==============================] - 1s 3ms/step - loss: 1.2542 - accuracy: 0.4111 - val_loss: 1.2512 - val_accuracy: 0.4174\n",
      "Epoch 31/150\n",
      "457/457 [==============================] - 1s 3ms/step - loss: 1.2537 - accuracy: 0.4111 - val_loss: 1.2508 - val_accuracy: 0.4179\n",
      "Epoch 32/150\n",
      "457/457 [==============================] - 2s 3ms/step - loss: 1.2541 - accuracy: 0.4123 - val_loss: 1.2505 - val_accuracy: 0.4181\n",
      "Epoch 33/150\n",
      "457/457 [==============================] - 1s 3ms/step - loss: 1.2536 - accuracy: 0.4119 - val_loss: 1.2503 - val_accuracy: 0.4186\n",
      "Epoch 34/150\n",
      "457/457 [==============================] - 2s 3ms/step - loss: 1.2529 - accuracy: 0.4121 - val_loss: 1.2500 - val_accuracy: 0.4185\n",
      "Epoch 35/150\n",
      "457/457 [==============================] - 2s 3ms/step - loss: 1.2535 - accuracy: 0.4128 - val_loss: 1.2498 - val_accuracy: 0.4188\n",
      "Epoch 36/150\n",
      "457/457 [==============================] - 2s 3ms/step - loss: 1.2522 - accuracy: 0.4118 - val_loss: 1.2495 - val_accuracy: 0.4194\n",
      "Epoch 37/150\n",
      "457/457 [==============================] - 1s 3ms/step - loss: 1.2531 - accuracy: 0.4132 - val_loss: 1.2493 - val_accuracy: 0.4203\n",
      "Epoch 38/150\n",
      "457/457 [==============================] - 2s 4ms/step - loss: 1.2526 - accuracy: 0.4125 - val_loss: 1.2491 - val_accuracy: 0.4213\n",
      "Epoch 39/150\n",
      "457/457 [==============================] - 2s 4ms/step - loss: 1.2523 - accuracy: 0.4107 - val_loss: 1.2489 - val_accuracy: 0.4221\n",
      "Epoch 40/150\n",
      "457/457 [==============================] - 2s 4ms/step - loss: 1.2514 - accuracy: 0.4123 - val_loss: 1.2486 - val_accuracy: 0.4225\n",
      "Epoch 41/150\n",
      "457/457 [==============================] - 2s 3ms/step - loss: 1.2522 - accuracy: 0.4121 - val_loss: 1.2485 - val_accuracy: 0.4229\n",
      "Epoch 42/150\n",
      "457/457 [==============================] - 2s 3ms/step - loss: 1.2508 - accuracy: 0.4144 - val_loss: 1.2483 - val_accuracy: 0.4231\n",
      "Epoch 43/150\n",
      "457/457 [==============================] - 2s 3ms/step - loss: 1.2502 - accuracy: 0.4146 - val_loss: 1.2482 - val_accuracy: 0.4231\n",
      "Epoch 44/150\n",
      "457/457 [==============================] - 2s 3ms/step - loss: 1.2521 - accuracy: 0.4139 - val_loss: 1.2480 - val_accuracy: 0.4234\n",
      "Epoch 45/150\n",
      "457/457 [==============================] - 2s 3ms/step - loss: 1.2500 - accuracy: 0.4136 - val_loss: 1.2478 - val_accuracy: 0.4231\n",
      "Epoch 46/150\n",
      "457/457 [==============================] - 1s 3ms/step - loss: 1.2508 - accuracy: 0.4138 - val_loss: 1.2477 - val_accuracy: 0.4235\n",
      "Epoch 47/150\n",
      "457/457 [==============================] - 1s 3ms/step - loss: 1.2506 - accuracy: 0.4141 - val_loss: 1.2475 - val_accuracy: 0.4238\n",
      "Epoch 48/150\n",
      "457/457 [==============================] - 1s 3ms/step - loss: 1.2506 - accuracy: 0.4128 - val_loss: 1.2474 - val_accuracy: 0.4242\n",
      "Epoch 49/150\n",
      "457/457 [==============================] - 1s 3ms/step - loss: 1.2498 - accuracy: 0.4142 - val_loss: 1.2473 - val_accuracy: 0.4243\n",
      "Epoch 50/150\n",
      "457/457 [==============================] - 1s 3ms/step - loss: 1.2501 - accuracy: 0.4132 - val_loss: 1.2472 - val_accuracy: 0.4239\n",
      "Epoch 51/150\n",
      "457/457 [==============================] - 1s 3ms/step - loss: 1.2494 - accuracy: 0.4153 - val_loss: 1.2470 - val_accuracy: 0.4245\n",
      "Epoch 52/150\n",
      "457/457 [==============================] - 1s 3ms/step - loss: 1.2497 - accuracy: 0.4137 - val_loss: 1.2469 - val_accuracy: 0.4249\n",
      "Epoch 53/150\n",
      "457/457 [==============================] - 1s 3ms/step - loss: 1.2496 - accuracy: 0.4138 - val_loss: 1.2468 - val_accuracy: 0.4251\n",
      "Epoch 54/150\n",
      "457/457 [==============================] - 1s 3ms/step - loss: 1.2494 - accuracy: 0.4127 - val_loss: 1.2467 - val_accuracy: 0.4256\n",
      "Epoch 55/150\n",
      "457/457 [==============================] - 1s 3ms/step - loss: 1.2495 - accuracy: 0.4138 - val_loss: 1.2466 - val_accuracy: 0.4260\n",
      "Epoch 56/150\n",
      "457/457 [==============================] - 1s 3ms/step - loss: 1.2487 - accuracy: 0.4146 - val_loss: 1.2465 - val_accuracy: 0.4258\n",
      "Epoch 57/150\n",
      "457/457 [==============================] - 1s 3ms/step - loss: 1.2498 - accuracy: 0.4146 - val_loss: 1.2464 - val_accuracy: 0.4264\n"
     ]
    },
    {
     "name": "stdout",
     "output_type": "stream",
     "text": [
      "Epoch 58/150\n",
      "457/457 [==============================] - 1s 3ms/step - loss: 1.2489 - accuracy: 0.4143 - val_loss: 1.2463 - val_accuracy: 0.4264\n",
      "Epoch 59/150\n",
      "457/457 [==============================] - 1s 3ms/step - loss: 1.2495 - accuracy: 0.4138 - val_loss: 1.2463 - val_accuracy: 0.4261\n",
      "Epoch 60/150\n",
      "457/457 [==============================] - 2s 3ms/step - loss: 1.2492 - accuracy: 0.4147 - val_loss: 1.2462 - val_accuracy: 0.4255\n",
      "Epoch 61/150\n",
      "457/457 [==============================] - 2s 4ms/step - loss: 1.2495 - accuracy: 0.4142 - val_loss: 1.2461 - val_accuracy: 0.4258\n",
      "Epoch 62/150\n",
      "457/457 [==============================] - 2s 3ms/step - loss: 1.2485 - accuracy: 0.4129 - val_loss: 1.2460 - val_accuracy: 0.4256\n",
      "Epoch 63/150\n",
      "457/457 [==============================] - 1s 3ms/step - loss: 1.2493 - accuracy: 0.4139 - val_loss: 1.2460 - val_accuracy: 0.4262\n",
      "Epoch 64/150\n",
      "457/457 [==============================] - 2s 3ms/step - loss: 1.2489 - accuracy: 0.4142 - val_loss: 1.2459 - val_accuracy: 0.4260\n",
      "Epoch 65/150\n",
      "457/457 [==============================] - 2s 3ms/step - loss: 1.2479 - accuracy: 0.4134 - val_loss: 1.2458 - val_accuracy: 0.4255\n",
      "Epoch 66/150\n",
      "457/457 [==============================] - 2s 4ms/step - loss: 1.2484 - accuracy: 0.4152 - val_loss: 1.2458 - val_accuracy: 0.4251\n",
      "Epoch 67/150\n",
      "457/457 [==============================] - 2s 4ms/step - loss: 1.2486 - accuracy: 0.4146 - val_loss: 1.2457 - val_accuracy: 0.4251\n",
      "Epoch 68/150\n",
      "457/457 [==============================] - 2s 4ms/step - loss: 1.2480 - accuracy: 0.4144 - val_loss: 1.2456 - val_accuracy: 0.4248\n",
      "Epoch 69/150\n",
      "457/457 [==============================] - 2s 3ms/step - loss: 1.2486 - accuracy: 0.4142 - val_loss: 1.2456 - val_accuracy: 0.4252\n",
      "Epoch 70/150\n",
      "457/457 [==============================] - 1s 3ms/step - loss: 1.2476 - accuracy: 0.4147 - val_loss: 1.2455 - val_accuracy: 0.4250\n",
      "Epoch 71/150\n",
      "457/457 [==============================] - 1s 3ms/step - loss: 1.2481 - accuracy: 0.4142 - val_loss: 1.2455 - val_accuracy: 0.4247\n",
      "Epoch 72/150\n",
      "457/457 [==============================] - 1s 3ms/step - loss: 1.2476 - accuracy: 0.4152 - val_loss: 1.2454 - val_accuracy: 0.4246\n",
      "Epoch 73/150\n",
      "457/457 [==============================] - 1s 3ms/step - loss: 1.2474 - accuracy: 0.4144 - val_loss: 1.2453 - val_accuracy: 0.4245\n",
      "Epoch 74/150\n",
      "457/457 [==============================] - 1s 3ms/step - loss: 1.2476 - accuracy: 0.4126 - val_loss: 1.2453 - val_accuracy: 0.4244\n",
      "Epoch 75/150\n",
      "457/457 [==============================] - 1s 3ms/step - loss: 1.2474 - accuracy: 0.4150 - val_loss: 1.2453 - val_accuracy: 0.4247\n",
      "Epoch 76/150\n",
      "457/457 [==============================] - 1s 3ms/step - loss: 1.2475 - accuracy: 0.4155 - val_loss: 1.2452 - val_accuracy: 0.4246\n",
      "Epoch 77/150\n",
      "457/457 [==============================] - 1s 3ms/step - loss: 1.2474 - accuracy: 0.4141 - val_loss: 1.2451 - val_accuracy: 0.4245\n",
      "Epoch 78/150\n",
      "457/457 [==============================] - 1s 3ms/step - loss: 1.2476 - accuracy: 0.4150 - val_loss: 1.2451 - val_accuracy: 0.4246\n",
      "Epoch 79/150\n",
      "457/457 [==============================] - 1s 3ms/step - loss: 1.2476 - accuracy: 0.4152 - val_loss: 1.2450 - val_accuracy: 0.4251\n",
      "Epoch 80/150\n",
      "457/457 [==============================] - 1s 3ms/step - loss: 1.2474 - accuracy: 0.4152 - val_loss: 1.2450 - val_accuracy: 0.4248\n",
      "Epoch 81/150\n",
      "457/457 [==============================] - 2s 4ms/step - loss: 1.2465 - accuracy: 0.4175 - val_loss: 1.2449 - val_accuracy: 0.4250\n",
      "Epoch 82/150\n",
      "457/457 [==============================] - 1s 3ms/step - loss: 1.2478 - accuracy: 0.4145 - val_loss: 1.2449 - val_accuracy: 0.4251\n",
      "Epoch 83/150\n",
      "457/457 [==============================] - 2s 4ms/step - loss: 1.2475 - accuracy: 0.4145 - val_loss: 1.2449 - val_accuracy: 0.4247\n",
      "Epoch 84/150\n",
      "457/457 [==============================] - 2s 3ms/step - loss: 1.2467 - accuracy: 0.4152 - val_loss: 1.2448 - val_accuracy: 0.4249\n",
      "Epoch 85/150\n",
      "457/457 [==============================] - 2s 4ms/step - loss: 1.2470 - accuracy: 0.4153 - val_loss: 1.2448 - val_accuracy: 0.4251\n",
      "Epoch 86/150\n",
      "457/457 [==============================] - 2s 3ms/step - loss: 1.2465 - accuracy: 0.4146 - val_loss: 1.2448 - val_accuracy: 0.4247\n",
      "Epoch 87/150\n",
      "457/457 [==============================] - 2s 3ms/step - loss: 1.2465 - accuracy: 0.4155 - val_loss: 1.2447 - val_accuracy: 0.4244\n",
      "Epoch 88/150\n",
      "457/457 [==============================] - 2s 3ms/step - loss: 1.2461 - accuracy: 0.4155 - val_loss: 1.2446 - val_accuracy: 0.4249\n",
      "Epoch 89/150\n",
      "457/457 [==============================] - 1s 3ms/step - loss: 1.2466 - accuracy: 0.4148 - val_loss: 1.2446 - val_accuracy: 0.4241\n",
      "Epoch 90/150\n",
      "457/457 [==============================] - 2s 3ms/step - loss: 1.2476 - accuracy: 0.4155 - val_loss: 1.2446 - val_accuracy: 0.4239\n",
      "Epoch 91/150\n",
      "457/457 [==============================] - 2s 3ms/step - loss: 1.2463 - accuracy: 0.4175 - val_loss: 1.2446 - val_accuracy: 0.4239\n",
      "Epoch 92/150\n",
      "457/457 [==============================] - 1s 3ms/step - loss: 1.2467 - accuracy: 0.4150 - val_loss: 1.2445 - val_accuracy: 0.4238\n",
      "Epoch 93/150\n",
      "457/457 [==============================] - 2s 3ms/step - loss: 1.2459 - accuracy: 0.4148 - val_loss: 1.2445 - val_accuracy: 0.4237\n",
      "Epoch 94/150\n",
      "457/457 [==============================] - 2s 3ms/step - loss: 1.2462 - accuracy: 0.4157 - val_loss: 1.2444 - val_accuracy: 0.4237\n",
      "Epoch 95/150\n",
      "457/457 [==============================] - 2s 3ms/step - loss: 1.2470 - accuracy: 0.4148 - val_loss: 1.2444 - val_accuracy: 0.4237\n",
      "Epoch 96/150\n",
      "457/457 [==============================] - 2s 3ms/step - loss: 1.2459 - accuracy: 0.4155 - val_loss: 1.2444 - val_accuracy: 0.4240\n",
      "Epoch 97/150\n",
      "457/457 [==============================] - 1s 3ms/step - loss: 1.2473 - accuracy: 0.4150 - val_loss: 1.2444 - val_accuracy: 0.4239\n",
      "Epoch 98/150\n",
      "457/457 [==============================] - 2s 3ms/step - loss: 1.2462 - accuracy: 0.4161 - val_loss: 1.2443 - val_accuracy: 0.4238\n",
      "Epoch 99/150\n",
      "457/457 [==============================] - 2s 3ms/step - loss: 1.2458 - accuracy: 0.4182 - val_loss: 1.2443 - val_accuracy: 0.4243\n",
      "Epoch 100/150\n",
      "457/457 [==============================] - 2s 3ms/step - loss: 1.2458 - accuracy: 0.4166 - val_loss: 1.2442 - val_accuracy: 0.4243\n",
      "Epoch 101/150\n",
      "457/457 [==============================] - 2s 3ms/step - loss: 1.2464 - accuracy: 0.4162 - val_loss: 1.2442 - val_accuracy: 0.4240\n",
      "Epoch 102/150\n",
      "457/457 [==============================] - 2s 3ms/step - loss: 1.2466 - accuracy: 0.4159 - val_loss: 1.2442 - val_accuracy: 0.4242\n",
      "Epoch 103/150\n",
      "457/457 [==============================] - 2s 3ms/step - loss: 1.2449 - accuracy: 0.4177 - val_loss: 1.2441 - val_accuracy: 0.4245\n",
      "Epoch 104/150\n",
      "457/457 [==============================] - 2s 3ms/step - loss: 1.2459 - accuracy: 0.4176 - val_loss: 1.2441 - val_accuracy: 0.4249\n",
      "Epoch 105/150\n",
      "457/457 [==============================] - 2s 3ms/step - loss: 1.2455 - accuracy: 0.4175 - val_loss: 1.2441 - val_accuracy: 0.4246\n",
      "Epoch 106/150\n",
      "457/457 [==============================] - 2s 3ms/step - loss: 1.2459 - accuracy: 0.4155 - val_loss: 1.2441 - val_accuracy: 0.4248\n",
      "Epoch 107/150\n",
      "457/457 [==============================] - 2s 3ms/step - loss: 1.2458 - accuracy: 0.4178 - val_loss: 1.2440 - val_accuracy: 0.4243\n",
      "Epoch 108/150\n",
      "457/457 [==============================] - 2s 3ms/step - loss: 1.2457 - accuracy: 0.4161 - val_loss: 1.2440 - val_accuracy: 0.4239\n",
      "Epoch 109/150\n",
      "457/457 [==============================] - 2s 3ms/step - loss: 1.2457 - accuracy: 0.4170 - val_loss: 1.2440 - val_accuracy: 0.4237\n",
      "Epoch 110/150\n",
      "457/457 [==============================] - 2s 3ms/step - loss: 1.2459 - accuracy: 0.4156 - val_loss: 1.2439 - val_accuracy: 0.4246\n",
      "Epoch 111/150\n",
      "457/457 [==============================] - 2s 3ms/step - loss: 1.2466 - accuracy: 0.4163 - val_loss: 1.2439 - val_accuracy: 0.4249\n",
      "Epoch 112/150\n",
      "457/457 [==============================] - 2s 3ms/step - loss: 1.2457 - accuracy: 0.4176 - val_loss: 1.2439 - val_accuracy: 0.4251\n",
      "Epoch 113/150\n",
      "457/457 [==============================] - 2s 3ms/step - loss: 1.2458 - accuracy: 0.4178 - val_loss: 1.2439 - val_accuracy: 0.4251\n",
      "Epoch 114/150\n",
      "457/457 [==============================] - 2s 3ms/step - loss: 1.2457 - accuracy: 0.4169 - val_loss: 1.2438 - val_accuracy: 0.4246\n"
     ]
    },
    {
     "name": "stdout",
     "output_type": "stream",
     "text": [
      "Epoch 115/150\n",
      "457/457 [==============================] - 2s 3ms/step - loss: 1.2450 - accuracy: 0.4171 - val_loss: 1.2438 - val_accuracy: 0.4248\n",
      "Epoch 116/150\n",
      "457/457 [==============================] - 2s 3ms/step - loss: 1.2449 - accuracy: 0.4156 - val_loss: 1.2438 - val_accuracy: 0.4249\n",
      "Epoch 117/150\n",
      "457/457 [==============================] - 2s 3ms/step - loss: 1.2462 - accuracy: 0.4166 - val_loss: 1.2438 - val_accuracy: 0.4249\n",
      "Epoch 118/150\n",
      "457/457 [==============================] - 2s 3ms/step - loss: 1.2451 - accuracy: 0.4173 - val_loss: 1.2438 - val_accuracy: 0.4242\n",
      "Epoch 119/150\n",
      "457/457 [==============================] - 2s 3ms/step - loss: 1.2447 - accuracy: 0.4176 - val_loss: 1.2437 - val_accuracy: 0.4248\n",
      "Epoch 120/150\n",
      "457/457 [==============================] - 2s 3ms/step - loss: 1.2454 - accuracy: 0.4163 - val_loss: 1.2437 - val_accuracy: 0.4243\n",
      "Epoch 121/150\n",
      "457/457 [==============================] - 2s 3ms/step - loss: 1.2448 - accuracy: 0.4160 - val_loss: 1.2437 - val_accuracy: 0.4253\n",
      "Epoch 122/150\n",
      "457/457 [==============================] - 2s 3ms/step - loss: 1.2442 - accuracy: 0.4175 - val_loss: 1.2437 - val_accuracy: 0.4248\n",
      "Epoch 123/150\n",
      "457/457 [==============================] - 2s 3ms/step - loss: 1.2455 - accuracy: 0.4171 - val_loss: 1.2436 - val_accuracy: 0.4251\n",
      "Epoch 124/150\n",
      "457/457 [==============================] - 1s 3ms/step - loss: 1.2449 - accuracy: 0.4157 - val_loss: 1.2436 - val_accuracy: 0.4249\n",
      "Epoch 125/150\n",
      "457/457 [==============================] - 2s 3ms/step - loss: 1.2445 - accuracy: 0.4174 - val_loss: 1.2436 - val_accuracy: 0.4249\n",
      "Epoch 126/150\n",
      "457/457 [==============================] - 2s 3ms/step - loss: 1.2454 - accuracy: 0.4150 - val_loss: 1.2436 - val_accuracy: 0.4253\n",
      "Epoch 127/150\n",
      "457/457 [==============================] - 2s 3ms/step - loss: 1.2454 - accuracy: 0.4175 - val_loss: 1.2435 - val_accuracy: 0.4246\n",
      "Epoch 128/150\n",
      "457/457 [==============================] - 2s 3ms/step - loss: 1.2445 - accuracy: 0.4184 - val_loss: 1.2435 - val_accuracy: 0.4247\n",
      "Epoch 129/150\n",
      "457/457 [==============================] - 2s 3ms/step - loss: 1.2450 - accuracy: 0.4177 - val_loss: 1.2435 - val_accuracy: 0.4252\n",
      "Epoch 130/150\n",
      "457/457 [==============================] - 2s 3ms/step - loss: 1.2441 - accuracy: 0.4162 - val_loss: 1.2435 - val_accuracy: 0.4254\n",
      "Epoch 131/150\n",
      "457/457 [==============================] - 2s 3ms/step - loss: 1.2442 - accuracy: 0.4174 - val_loss: 1.2434 - val_accuracy: 0.4253\n",
      "Epoch 132/150\n",
      "457/457 [==============================] - 2s 3ms/step - loss: 1.2446 - accuracy: 0.4162 - val_loss: 1.2434 - val_accuracy: 0.4249\n",
      "Epoch 133/150\n",
      "457/457 [==============================] - 2s 4ms/step - loss: 1.2445 - accuracy: 0.4192 - val_loss: 1.2434 - val_accuracy: 0.4251\n",
      "Epoch 134/150\n",
      "457/457 [==============================] - 2s 3ms/step - loss: 1.2449 - accuracy: 0.4176 - val_loss: 1.2434 - val_accuracy: 0.4249\n",
      "Epoch 135/150\n",
      "457/457 [==============================] - 2s 3ms/step - loss: 1.2451 - accuracy: 0.4178 - val_loss: 1.2433 - val_accuracy: 0.4248\n",
      "Epoch 136/150\n",
      "457/457 [==============================] - 2s 3ms/step - loss: 1.2444 - accuracy: 0.4183 - val_loss: 1.2434 - val_accuracy: 0.4246\n",
      "Epoch 137/150\n",
      "457/457 [==============================] - 2s 3ms/step - loss: 1.2441 - accuracy: 0.4159 - val_loss: 1.2433 - val_accuracy: 0.4249\n",
      "Epoch 138/150\n",
      "457/457 [==============================] - 2s 3ms/step - loss: 1.2445 - accuracy: 0.4175 - val_loss: 1.2433 - val_accuracy: 0.4249\n",
      "Epoch 139/150\n",
      "457/457 [==============================] - 2s 4ms/step - loss: 1.2449 - accuracy: 0.4180 - val_loss: 1.2433 - val_accuracy: 0.4251\n",
      "Epoch 140/150\n",
      "457/457 [==============================] - 2s 3ms/step - loss: 1.2443 - accuracy: 0.4178 - val_loss: 1.2433 - val_accuracy: 0.4253\n",
      "Epoch 141/150\n",
      "457/457 [==============================] - 2s 4ms/step - loss: 1.2443 - accuracy: 0.4157 - val_loss: 1.2432 - val_accuracy: 0.4247\n",
      "Epoch 142/150\n",
      "457/457 [==============================] - 1s 3ms/step - loss: 1.2440 - accuracy: 0.4177 - val_loss: 1.2432 - val_accuracy: 0.4252\n",
      "Epoch 143/150\n",
      "457/457 [==============================] - 2s 3ms/step - loss: 1.2433 - accuracy: 0.4196 - val_loss: 1.2432 - val_accuracy: 0.4250\n",
      "Epoch 144/150\n",
      "457/457 [==============================] - 2s 3ms/step - loss: 1.2438 - accuracy: 0.4189 - val_loss: 1.2432 - val_accuracy: 0.4251\n",
      "Epoch 145/150\n",
      "457/457 [==============================] - 2s 3ms/step - loss: 1.2436 - accuracy: 0.4182 - val_loss: 1.2432 - val_accuracy: 0.4251\n",
      "Epoch 146/150\n",
      "457/457 [==============================] - 2s 4ms/step - loss: 1.2448 - accuracy: 0.4172 - val_loss: 1.2432 - val_accuracy: 0.4248\n",
      "Epoch 147/150\n",
      "457/457 [==============================] - 2s 4ms/step - loss: 1.2443 - accuracy: 0.4179 - val_loss: 1.2431 - val_accuracy: 0.4252\n",
      "Epoch 148/150\n",
      "457/457 [==============================] - 1s 3ms/step - loss: 1.2450 - accuracy: 0.4177 - val_loss: 1.2431 - val_accuracy: 0.4250\n",
      "Epoch 149/150\n",
      "457/457 [==============================] - 2s 3ms/step - loss: 1.2442 - accuracy: 0.4175 - val_loss: 1.2431 - val_accuracy: 0.4247\n",
      "Epoch 150/150\n",
      "457/457 [==============================] - 1s 3ms/step - loss: 1.2436 - accuracy: 0.4175 - val_loss: 1.2431 - val_accuracy: 0.4251\n"
     ]
    },
    {
     "data": {
      "image/png": "[encoded data removed]",
      "text/plain": [
       "<Figure size 1280x480 with 2 Axes>"
      ]
     },
     "metadata": {},
     "output_type": "display_data"
    }
   ],
   "source": [
    "# Architecture 2: 32-256-3 Feed Forward Neural Network with 'relu' and 'softmax'\n",
    "# Defining the ANN architecture\n",
    "model = tf.keras.models.Sequential()\n",
    "model.add(tf.keras.layers.Dense(32, activation='relu', input_dim=input_dimension)) \n",
    "model.add(tf.keras.layers.Dense(256, activation='relu')) \n",
    "model.add(tf.keras.layers.Dropout(0.2))\n",
    "model.add(tf.keras.layers.Flatten()) \n",
    "model.add(tf.keras.layers.Dense(num_classes, activation='softmax')) \n",
    "# Model Compilation\n",
    "model.compile(optimizer=tf.keras.optimizers.SGD(learning_rate=learning_rate),\n",
    "              loss='categorical_crossentropy',\n",
    "              metrics=['accuracy'])\n",
    "# Stopping early to avoid overfitting\n",
    "stop_callback = myCallback()\n",
    "# Training\n",
    "history = model.fit(x_train_reshaped, y_train_encoded, epochs=epochs, batch_size=batch_size, validation_data=(x_test_reshaped, y_test_encoded), callbacks=[stop_callback])\n",
    "\n",
    "# Plotting training and testing curves\n",
    "default_size = plt.rcParams['figure.figsize']\n",
    "fig = plt.figure(figsize=[default_size[0] * 2, default_size[1]])\n",
    "\n",
    "fig.add_subplot(1, 2, 1)\n",
    "plt.plot(history.history['accuracy'], label = 'accuracy')          # Train accuracy (blue)\n",
    "plt.plot(history.history['val_accuracy'], label = 'val_accuracy')  # Valid accuracy (orange)\n",
    "plt.xlabel('Epoch')\n",
    "plt.ylabel('Accuracy')\n",
    "plt.title('Accuracy')\n",
    "plt.legend(loc='lower right')\n",
    "\n",
    "fig.add_subplot(1, 2, 2)\n",
    "plt.plot(history.history['loss'], label='loss')          # Train loss (blue)\n",
    "plt.plot(history.history['val_loss'], label='val_loss')  # Valid loss (orange)\n",
    "plt.xlabel('Epoch')\n",
    "plt.ylabel('Loss')\n",
    "plt.title('Loss')\n",
    "plt.legend(loc='upper right')\n",
    "plt.show()"
   ]
  },
  {
   "cell_type": "code",
   "execution_count": 30,
   "id": "d4404554",
   "metadata": {},
   "outputs": [
    {
     "name": "stdout",
     "output_type": "stream",
     "text": [
      "Test Loss: 1.243097186088562\n",
      "Test Accuracy: 0.42513614892959595\n"
     ]
    }
   ],
   "source": [
    "test_loss_1, test_accuracy_1 = model.evaluate(x_test_reshaped, y_test_encoded, verbose=0)\n",
    "print('Test Loss:', test_loss_1)\n",
    "print('Test Accuracy:', test_accuracy_1)"
   ]
  },
  {
   "cell_type": "code",
   "execution_count": 31,
   "id": "6dab4bc7",
   "metadata": {},
   "outputs": [
    {
     "name": "stdout",
     "output_type": "stream",
     "text": [
      "Epoch 1/150\n",
      "457/457 [==============================] - 2s 4ms/step - loss: 1.4340 - accuracy: 0.2547 - val_loss: 1.3845 - val_accuracy: 0.3075\n",
      "Epoch 2/150\n",
      "457/457 [==============================] - 2s 4ms/step - loss: 1.4317 - accuracy: 0.2491 - val_loss: 1.3839 - val_accuracy: 0.2309\n",
      "Epoch 3/150\n",
      "457/457 [==============================] - 2s 3ms/step - loss: 1.4304 - accuracy: 0.2514 - val_loss: 1.3830 - val_accuracy: 0.2936\n",
      "Epoch 4/150\n",
      "457/457 [==============================] - 2s 3ms/step - loss: 1.4252 - accuracy: 0.2570 - val_loss: 1.3824 - val_accuracy: 0.3207\n",
      "Epoch 5/150\n",
      "457/457 [==============================] - 2s 3ms/step - loss: 1.4257 - accuracy: 0.2510 - val_loss: 1.3819 - val_accuracy: 0.2489\n",
      "Epoch 6/150\n",
      "457/457 [==============================] - 1s 3ms/step - loss: 1.4209 - accuracy: 0.2615 - val_loss: 1.3815 - val_accuracy: 0.2721\n",
      "Epoch 7/150\n",
      "457/457 [==============================] - 2s 3ms/step - loss: 1.4236 - accuracy: 0.2558 - val_loss: 1.3799 - val_accuracy: 0.3693\n",
      "Epoch 8/150\n",
      "457/457 [==============================] - 2s 3ms/step - loss: 1.4230 - accuracy: 0.2555 - val_loss: 1.3787 - val_accuracy: 0.3334\n",
      "Epoch 9/150\n",
      "457/457 [==============================] - 1s 3ms/step - loss: 1.4218 - accuracy: 0.2558 - val_loss: 1.3787 - val_accuracy: 0.2830\n",
      "Epoch 10/150\n",
      "457/457 [==============================] - 1s 3ms/step - loss: 1.4182 - accuracy: 0.2612 - val_loss: 1.3777 - val_accuracy: 0.3324\n",
      "Epoch 11/150\n",
      "457/457 [==============================] - 2s 4ms/step - loss: 1.4191 - accuracy: 0.2552 - val_loss: 1.3775 - val_accuracy: 0.2859\n",
      "Epoch 12/150\n",
      "457/457 [==============================] - 1s 3ms/step - loss: 1.4168 - accuracy: 0.2583 - val_loss: 1.3758 - val_accuracy: 0.3411\n",
      "Epoch 13/150\n",
      "457/457 [==============================] - 2s 4ms/step - loss: 1.4157 - accuracy: 0.2609 - val_loss: 1.3762 - val_accuracy: 0.3028\n",
      "Epoch 14/150\n",
      "457/457 [==============================] - 1s 3ms/step - loss: 1.4102 - accuracy: 0.2702 - val_loss: 1.3745 - val_accuracy: 0.3680\n",
      "Epoch 15/150\n",
      "457/457 [==============================] - 2s 3ms/step - loss: 1.4133 - accuracy: 0.2657 - val_loss: 1.3740 - val_accuracy: 0.3573\n",
      "Epoch 16/150\n",
      "457/457 [==============================] - 2s 3ms/step - loss: 1.4106 - accuracy: 0.2693 - val_loss: 1.3737 - val_accuracy: 0.3389\n",
      "Epoch 17/150\n",
      "457/457 [==============================] - 2s 4ms/step - loss: 1.4103 - accuracy: 0.2612 - val_loss: 1.3723 - val_accuracy: 0.3829\n",
      "Epoch 18/150\n",
      "457/457 [==============================] - 2s 3ms/step - loss: 1.4085 - accuracy: 0.2647 - val_loss: 1.3727 - val_accuracy: 0.3075\n",
      "Epoch 19/150\n",
      "457/457 [==============================] - 2s 3ms/step - loss: 1.4116 - accuracy: 0.2610 - val_loss: 1.3713 - val_accuracy: 0.3767\n",
      "Epoch 20/150\n",
      "457/457 [==============================] - 2s 4ms/step - loss: 1.4105 - accuracy: 0.2630 - val_loss: 1.3709 - val_accuracy: 0.3688\n",
      "Epoch 21/150\n",
      "457/457 [==============================] - 2s 4ms/step - loss: 1.4069 - accuracy: 0.2649 - val_loss: 1.3702 - val_accuracy: 0.3605\n",
      "Epoch 22/150\n",
      "457/457 [==============================] - 2s 3ms/step - loss: 1.4048 - accuracy: 0.2693 - val_loss: 1.3695 - val_accuracy: 0.3747\n",
      "Epoch 23/150\n",
      "457/457 [==============================] - 2s 4ms/step - loss: 1.4038 - accuracy: 0.2705 - val_loss: 1.3688 - val_accuracy: 0.3869\n",
      "Epoch 24/150\n",
      "457/457 [==============================] - 2s 4ms/step - loss: 1.4019 - accuracy: 0.2714 - val_loss: 1.3679 - val_accuracy: 0.3703\n",
      "Epoch 25/150\n",
      "457/457 [==============================] - 2s 4ms/step - loss: 1.4014 - accuracy: 0.2702 - val_loss: 1.3672 - val_accuracy: 0.3775\n",
      "Epoch 26/150\n",
      "457/457 [==============================] - 1s 3ms/step - loss: 1.4038 - accuracy: 0.2684 - val_loss: 1.3666 - val_accuracy: 0.3841\n",
      "Epoch 27/150\n",
      "457/457 [==============================] - 1s 3ms/step - loss: 1.4009 - accuracy: 0.2717 - val_loss: 1.3664 - val_accuracy: 0.3808\n",
      "Epoch 28/150\n",
      "457/457 [==============================] - 2s 3ms/step - loss: 1.4011 - accuracy: 0.2715 - val_loss: 1.3653 - val_accuracy: 0.3967\n",
      "Epoch 29/150\n",
      "457/457 [==============================] - 1s 3ms/step - loss: 1.3990 - accuracy: 0.2744 - val_loss: 1.3648 - val_accuracy: 0.4024\n",
      "Epoch 30/150\n",
      "457/457 [==============================] - 1s 3ms/step - loss: 1.3976 - accuracy: 0.2759 - val_loss: 1.3645 - val_accuracy: 0.3748\n",
      "Epoch 31/150\n",
      "457/457 [==============================] - 2s 3ms/step - loss: 1.3968 - accuracy: 0.2775 - val_loss: 1.3636 - val_accuracy: 0.4041\n",
      "Epoch 32/150\n",
      "457/457 [==============================] - 1s 3ms/step - loss: 1.3931 - accuracy: 0.2782 - val_loss: 1.3630 - val_accuracy: 0.4021\n",
      "Epoch 33/150\n",
      "457/457 [==============================] - 2s 3ms/step - loss: 1.3942 - accuracy: 0.2792 - val_loss: 1.3627 - val_accuracy: 0.3849\n",
      "Epoch 34/150\n",
      "457/457 [==============================] - 2s 3ms/step - loss: 1.3934 - accuracy: 0.2819 - val_loss: 1.3625 - val_accuracy: 0.3956\n",
      "Epoch 35/150\n",
      "457/457 [==============================] - 2s 3ms/step - loss: 1.3929 - accuracy: 0.2804 - val_loss: 1.3610 - val_accuracy: 0.3849\n",
      "Epoch 36/150\n",
      "457/457 [==============================] - 1s 3ms/step - loss: 1.3910 - accuracy: 0.2788 - val_loss: 1.3608 - val_accuracy: 0.3882\n",
      "Epoch 37/150\n",
      "457/457 [==============================] - 2s 4ms/step - loss: 1.3909 - accuracy: 0.2803 - val_loss: 1.3599 - val_accuracy: 0.3824\n",
      "Epoch 38/150\n",
      "457/457 [==============================] - 2s 3ms/step - loss: 1.3923 - accuracy: 0.2774 - val_loss: 1.3592 - val_accuracy: 0.3882\n",
      "Epoch 39/150\n",
      "457/457 [==============================] - 1s 3ms/step - loss: 1.3891 - accuracy: 0.2842 - val_loss: 1.3592 - val_accuracy: 0.3738\n",
      "Epoch 40/150\n",
      "457/457 [==============================] - 2s 3ms/step - loss: 1.3887 - accuracy: 0.2834 - val_loss: 1.3584 - val_accuracy: 0.3795\n",
      "Epoch 41/150\n",
      "457/457 [==============================] - 1s 3ms/step - loss: 1.3850 - accuracy: 0.2865 - val_loss: 1.3582 - val_accuracy: 0.3918\n",
      "Epoch 42/150\n",
      "457/457 [==============================] - 2s 3ms/step - loss: 1.3855 - accuracy: 0.2852 - val_loss: 1.3567 - val_accuracy: 0.3909\n",
      "Epoch 43/150\n",
      "457/457 [==============================] - 2s 4ms/step - loss: 1.3843 - accuracy: 0.2888 - val_loss: 1.3567 - val_accuracy: 0.3750\n",
      "Epoch 44/150\n",
      "457/457 [==============================] - 2s 3ms/step - loss: 1.3865 - accuracy: 0.2867 - val_loss: 1.3561 - val_accuracy: 0.3847\n",
      "Epoch 45/150\n",
      "457/457 [==============================] - 2s 3ms/step - loss: 1.3833 - accuracy: 0.2871 - val_loss: 1.3549 - val_accuracy: 0.3838\n",
      "Epoch 46/150\n",
      "457/457 [==============================] - 1s 3ms/step - loss: 1.3827 - accuracy: 0.2913 - val_loss: 1.3546 - val_accuracy: 0.3715\n",
      "Epoch 47/150\n",
      "457/457 [==============================] - 2s 3ms/step - loss: 1.3812 - accuracy: 0.2906 - val_loss: 1.3537 - val_accuracy: 0.4045\n",
      "Epoch 48/150\n",
      "457/457 [==============================] - 2s 3ms/step - loss: 1.3820 - accuracy: 0.2897 - val_loss: 1.3537 - val_accuracy: 0.3860\n",
      "Epoch 49/150\n",
      "457/457 [==============================] - 2s 4ms/step - loss: 1.3812 - accuracy: 0.2882 - val_loss: 1.3525 - val_accuracy: 0.3770\n",
      "Epoch 50/150\n",
      "447/457 [============================>.] - ETA: 0s - loss: 1.3786 - accuracy: 0.2958"
     ]
    },
    {
     "ename": "KeyboardInterrupt",
     "evalue": "",
     "output_type": "error",
     "traceback": [
      "\u001b[1;31m---------------------------------------------------------------------------\u001b[0m",
      "\u001b[1;31mKeyboardInterrupt\u001b[0m                         Traceback (most recent call last)",
      "Cell \u001b[1;32mIn[31], line 16\u001b[0m\n\u001b[0;32m     14\u001b[0m stop_callback \u001b[38;5;241m=\u001b[39m myCallback()\n\u001b[0;32m     15\u001b[0m \u001b[38;5;66;03m# Training\u001b[39;00m\n\u001b[1;32m---> 16\u001b[0m history \u001b[38;5;241m=\u001b[39m \u001b[43mmodel\u001b[49m\u001b[38;5;241;43m.\u001b[39;49m\u001b[43mfit\u001b[49m\u001b[43m(\u001b[49m\u001b[43mx_train_reshaped\u001b[49m\u001b[43m,\u001b[49m\u001b[43m \u001b[49m\u001b[43my_train_encoded\u001b[49m\u001b[43m,\u001b[49m\u001b[43m \u001b[49m\u001b[43mepochs\u001b[49m\u001b[38;5;241;43m=\u001b[39;49m\u001b[43mepochs\u001b[49m\u001b[43m,\u001b[49m\u001b[43m \u001b[49m\u001b[43mbatch_size\u001b[49m\u001b[38;5;241;43m=\u001b[39;49m\u001b[43mbatch_size\u001b[49m\u001b[43m,\u001b[49m\u001b[43m \u001b[49m\u001b[43mvalidation_data\u001b[49m\u001b[38;5;241;43m=\u001b[39;49m\u001b[43m(\u001b[49m\u001b[43mx_test_reshaped\u001b[49m\u001b[43m,\u001b[49m\u001b[43m \u001b[49m\u001b[43my_test_encoded\u001b[49m\u001b[43m)\u001b[49m\u001b[43m,\u001b[49m\u001b[43m \u001b[49m\u001b[43mcallbacks\u001b[49m\u001b[38;5;241;43m=\u001b[39;49m\u001b[43m[\u001b[49m\u001b[43mstop_callback\u001b[49m\u001b[43m]\u001b[49m\u001b[43m)\u001b[49m\n\u001b[0;32m     18\u001b[0m \u001b[38;5;66;03m# Plotting training and testing curves\u001b[39;00m\n\u001b[0;32m     19\u001b[0m default_size \u001b[38;5;241m=\u001b[39m plt\u001b[38;5;241m.\u001b[39mrcParams[\u001b[38;5;124m'\u001b[39m\u001b[38;5;124mfigure.figsize\u001b[39m\u001b[38;5;124m'\u001b[39m]\n",
      "File \u001b[1;32mD:\\Programming\\Python\\Machine Learning\\ml\\lib\\site-packages\\keras\\utils\\traceback_utils.py:65\u001b[0m, in \u001b[0;36mfilter_traceback.<locals>.error_handler\u001b[1;34m(*args, **kwargs)\u001b[0m\n\u001b[0;32m     63\u001b[0m filtered_tb \u001b[38;5;241m=\u001b[39m \u001b[38;5;28;01mNone\u001b[39;00m\n\u001b[0;32m     64\u001b[0m \u001b[38;5;28;01mtry\u001b[39;00m:\n\u001b[1;32m---> 65\u001b[0m     \u001b[38;5;28;01mreturn\u001b[39;00m fn(\u001b[38;5;241m*\u001b[39margs, \u001b[38;5;241m*\u001b[39m\u001b[38;5;241m*\u001b[39mkwargs)\n\u001b[0;32m     66\u001b[0m \u001b[38;5;28;01mexcept\u001b[39;00m \u001b[38;5;167;01mException\u001b[39;00m \u001b[38;5;28;01mas\u001b[39;00m e:\n\u001b[0;32m     67\u001b[0m     filtered_tb \u001b[38;5;241m=\u001b[39m _process_traceback_frames(e\u001b[38;5;241m.\u001b[39m__traceback__)\n",
      "File \u001b[1;32mD:\\Programming\\Python\\Machine Learning\\ml\\lib\\site-packages\\keras\\engine\\training.py:1606\u001b[0m, in \u001b[0;36mModel.fit\u001b[1;34m(self, x, y, batch_size, epochs, verbose, callbacks, validation_split, validation_data, shuffle, class_weight, sample_weight, initial_epoch, steps_per_epoch, validation_steps, validation_batch_size, validation_freq, max_queue_size, workers, use_multiprocessing)\u001b[0m\n\u001b[0;32m   1591\u001b[0m \u001b[38;5;28;01mif\u001b[39;00m \u001b[38;5;28mgetattr\u001b[39m(\u001b[38;5;28mself\u001b[39m, \u001b[38;5;124m\"\u001b[39m\u001b[38;5;124m_eval_data_handler\u001b[39m\u001b[38;5;124m\"\u001b[39m, \u001b[38;5;28;01mNone\u001b[39;00m) \u001b[38;5;129;01mis\u001b[39;00m \u001b[38;5;28;01mNone\u001b[39;00m:\n\u001b[0;32m   1592\u001b[0m     \u001b[38;5;28mself\u001b[39m\u001b[38;5;241m.\u001b[39m_eval_data_handler \u001b[38;5;241m=\u001b[39m data_adapter\u001b[38;5;241m.\u001b[39mget_data_handler(\n\u001b[0;32m   1593\u001b[0m         x\u001b[38;5;241m=\u001b[39mval_x,\n\u001b[0;32m   1594\u001b[0m         y\u001b[38;5;241m=\u001b[39mval_y,\n\u001b[1;32m   (...)\u001b[0m\n\u001b[0;32m   1604\u001b[0m         steps_per_execution\u001b[38;5;241m=\u001b[39m\u001b[38;5;28mself\u001b[39m\u001b[38;5;241m.\u001b[39m_steps_per_execution,\n\u001b[0;32m   1605\u001b[0m     )\n\u001b[1;32m-> 1606\u001b[0m val_logs \u001b[38;5;241m=\u001b[39m \u001b[38;5;28;43mself\u001b[39;49m\u001b[38;5;241;43m.\u001b[39;49m\u001b[43mevaluate\u001b[49m\u001b[43m(\u001b[49m\n\u001b[0;32m   1607\u001b[0m \u001b[43m    \u001b[49m\u001b[43mx\u001b[49m\u001b[38;5;241;43m=\u001b[39;49m\u001b[43mval_x\u001b[49m\u001b[43m,\u001b[49m\n\u001b[0;32m   1608\u001b[0m \u001b[43m    \u001b[49m\u001b[43my\u001b[49m\u001b[38;5;241;43m=\u001b[39;49m\u001b[43mval_y\u001b[49m\u001b[43m,\u001b[49m\n\u001b[0;32m   1609\u001b[0m \u001b[43m    \u001b[49m\u001b[43msample_weight\u001b[49m\u001b[38;5;241;43m=\u001b[39;49m\u001b[43mval_sample_weight\u001b[49m\u001b[43m,\u001b[49m\n\u001b[0;32m   1610\u001b[0m \u001b[43m    \u001b[49m\u001b[43mbatch_size\u001b[49m\u001b[38;5;241;43m=\u001b[39;49m\u001b[43mvalidation_batch_size\u001b[49m\u001b[43m \u001b[49m\u001b[38;5;129;43;01mor\u001b[39;49;00m\u001b[43m \u001b[49m\u001b[43mbatch_size\u001b[49m\u001b[43m,\u001b[49m\n\u001b[0;32m   1611\u001b[0m \u001b[43m    \u001b[49m\u001b[43msteps\u001b[49m\u001b[38;5;241;43m=\u001b[39;49m\u001b[43mvalidation_steps\u001b[49m\u001b[43m,\u001b[49m\n\u001b[0;32m   1612\u001b[0m \u001b[43m    \u001b[49m\u001b[43mcallbacks\u001b[49m\u001b[38;5;241;43m=\u001b[39;49m\u001b[43mcallbacks\u001b[49m\u001b[43m,\u001b[49m\n\u001b[0;32m   1613\u001b[0m \u001b[43m    \u001b[49m\u001b[43mmax_queue_size\u001b[49m\u001b[38;5;241;43m=\u001b[39;49m\u001b[43mmax_queue_size\u001b[49m\u001b[43m,\u001b[49m\n\u001b[0;32m   1614\u001b[0m \u001b[43m    \u001b[49m\u001b[43mworkers\u001b[49m\u001b[38;5;241;43m=\u001b[39;49m\u001b[43mworkers\u001b[49m\u001b[43m,\u001b[49m\n\u001b[0;32m   1615\u001b[0m \u001b[43m    \u001b[49m\u001b[43muse_multiprocessing\u001b[49m\u001b[38;5;241;43m=\u001b[39;49m\u001b[43muse_multiprocessing\u001b[49m\u001b[43m,\u001b[49m\n\u001b[0;32m   1616\u001b[0m \u001b[43m    \u001b[49m\u001b[43mreturn_dict\u001b[49m\u001b[38;5;241;43m=\u001b[39;49m\u001b[38;5;28;43;01mTrue\u001b[39;49;00m\u001b[43m,\u001b[49m\n\u001b[0;32m   1617\u001b[0m \u001b[43m    \u001b[49m\u001b[43m_use_cached_eval_dataset\u001b[49m\u001b[38;5;241;43m=\u001b[39;49m\u001b[38;5;28;43;01mTrue\u001b[39;49;00m\u001b[43m,\u001b[49m\n\u001b[0;32m   1618\u001b[0m \u001b[43m\u001b[49m\u001b[43m)\u001b[49m\n\u001b[0;32m   1619\u001b[0m val_logs \u001b[38;5;241m=\u001b[39m {\n\u001b[0;32m   1620\u001b[0m     \u001b[38;5;124m\"\u001b[39m\u001b[38;5;124mval_\u001b[39m\u001b[38;5;124m\"\u001b[39m \u001b[38;5;241m+\u001b[39m name: val \u001b[38;5;28;01mfor\u001b[39;00m name, val \u001b[38;5;129;01min\u001b[39;00m val_logs\u001b[38;5;241m.\u001b[39mitems()\n\u001b[0;32m   1621\u001b[0m }\n\u001b[0;32m   1622\u001b[0m epoch_logs\u001b[38;5;241m.\u001b[39mupdate(val_logs)\n",
      "File \u001b[1;32mD:\\Programming\\Python\\Machine Learning\\ml\\lib\\site-packages\\keras\\utils\\traceback_utils.py:65\u001b[0m, in \u001b[0;36mfilter_traceback.<locals>.error_handler\u001b[1;34m(*args, **kwargs)\u001b[0m\n\u001b[0;32m     63\u001b[0m filtered_tb \u001b[38;5;241m=\u001b[39m \u001b[38;5;28;01mNone\u001b[39;00m\n\u001b[0;32m     64\u001b[0m \u001b[38;5;28;01mtry\u001b[39;00m:\n\u001b[1;32m---> 65\u001b[0m     \u001b[38;5;28;01mreturn\u001b[39;00m fn(\u001b[38;5;241m*\u001b[39margs, \u001b[38;5;241m*\u001b[39m\u001b[38;5;241m*\u001b[39mkwargs)\n\u001b[0;32m     66\u001b[0m \u001b[38;5;28;01mexcept\u001b[39;00m \u001b[38;5;167;01mException\u001b[39;00m \u001b[38;5;28;01mas\u001b[39;00m e:\n\u001b[0;32m     67\u001b[0m     filtered_tb \u001b[38;5;241m=\u001b[39m _process_traceback_frames(e\u001b[38;5;241m.\u001b[39m__traceback__)\n",
      "File \u001b[1;32mD:\\Programming\\Python\\Machine Learning\\ml\\lib\\site-packages\\keras\\engine\\training.py:1942\u001b[0m, in \u001b[0;36mModel.evaluate\u001b[1;34m(self, x, y, batch_size, verbose, sample_weight, steps, callbacks, max_queue_size, workers, use_multiprocessing, return_dict, **kwargs)\u001b[0m\n\u001b[0;32m   1940\u001b[0m \u001b[38;5;28mself\u001b[39m\u001b[38;5;241m.\u001b[39mreset_metrics()\n\u001b[0;32m   1941\u001b[0m \u001b[38;5;28;01mwith\u001b[39;00m data_handler\u001b[38;5;241m.\u001b[39mcatch_stop_iteration():\n\u001b[1;32m-> 1942\u001b[0m     \u001b[38;5;28;01mfor\u001b[39;00m step \u001b[38;5;129;01min\u001b[39;00m data_handler\u001b[38;5;241m.\u001b[39msteps():\n\u001b[0;32m   1943\u001b[0m         \u001b[38;5;28;01mwith\u001b[39;00m tf\u001b[38;5;241m.\u001b[39mprofiler\u001b[38;5;241m.\u001b[39mexperimental\u001b[38;5;241m.\u001b[39mTrace(\n\u001b[0;32m   1944\u001b[0m             \u001b[38;5;124m\"\u001b[39m\u001b[38;5;124mtest\u001b[39m\u001b[38;5;124m\"\u001b[39m, step_num\u001b[38;5;241m=\u001b[39mstep, _r\u001b[38;5;241m=\u001b[39m\u001b[38;5;241m1\u001b[39m\n\u001b[0;32m   1945\u001b[0m         ):\n\u001b[0;32m   1946\u001b[0m             callbacks\u001b[38;5;241m.\u001b[39mon_test_batch_begin(step)\n",
      "File \u001b[1;32mD:\\Programming\\Python\\Machine Learning\\ml\\lib\\site-packages\\keras\\engine\\data_adapter.py:1374\u001b[0m, in \u001b[0;36mDataHandler.steps\u001b[1;34m(self)\u001b[0m\n\u001b[0;32m   1372\u001b[0m \u001b[38;5;28;01mif\u001b[39;00m \u001b[38;5;28mself\u001b[39m\u001b[38;5;241m.\u001b[39m_insufficient_data:  \u001b[38;5;66;03m# Set by `catch_stop_iteration`.\u001b[39;00m\n\u001b[0;32m   1373\u001b[0m     \u001b[38;5;28;01mbreak\u001b[39;00m\n\u001b[1;32m-> 1374\u001b[0m original_spe \u001b[38;5;241m=\u001b[39m \u001b[38;5;28;43mself\u001b[39;49m\u001b[38;5;241;43m.\u001b[39;49m\u001b[43m_steps_per_execution\u001b[49m\u001b[38;5;241;43m.\u001b[39;49m\u001b[43mnumpy\u001b[49m\u001b[43m(\u001b[49m\u001b[43m)\u001b[49m\u001b[38;5;241m.\u001b[39mitem()\n\u001b[0;32m   1375\u001b[0m can_run_full_execution \u001b[38;5;241m=\u001b[39m (\n\u001b[0;32m   1376\u001b[0m     original_spe \u001b[38;5;241m==\u001b[39m \u001b[38;5;241m1\u001b[39m\n\u001b[0;32m   1377\u001b[0m     \u001b[38;5;129;01mor\u001b[39;00m \u001b[38;5;28mself\u001b[39m\u001b[38;5;241m.\u001b[39m_inferred_steps \u001b[38;5;129;01mis\u001b[39;00m \u001b[38;5;28;01mNone\u001b[39;00m\n\u001b[0;32m   1378\u001b[0m     \u001b[38;5;129;01mor\u001b[39;00m \u001b[38;5;28mself\u001b[39m\u001b[38;5;241m.\u001b[39m_inferred_steps \u001b[38;5;241m-\u001b[39m \u001b[38;5;28mself\u001b[39m\u001b[38;5;241m.\u001b[39m_current_step \u001b[38;5;241m>\u001b[39m\u001b[38;5;241m=\u001b[39m original_spe\n\u001b[0;32m   1379\u001b[0m )\n\u001b[0;32m   1381\u001b[0m \u001b[38;5;28;01mif\u001b[39;00m can_run_full_execution:\n",
      "File \u001b[1;32mD:\\Programming\\Python\\Machine Learning\\ml\\lib\\site-packages\\tensorflow\\python\\ops\\resource_variable_ops.py:637\u001b[0m, in \u001b[0;36mBaseResourceVariable.numpy\u001b[1;34m(self)\u001b[0m\n\u001b[0;32m    635\u001b[0m \u001b[38;5;28;01mdef\u001b[39;00m \u001b[38;5;21mnumpy\u001b[39m(\u001b[38;5;28mself\u001b[39m):\n\u001b[0;32m    636\u001b[0m   \u001b[38;5;28;01mif\u001b[39;00m context\u001b[38;5;241m.\u001b[39mexecuting_eagerly():\n\u001b[1;32m--> 637\u001b[0m     \u001b[38;5;28;01mreturn\u001b[39;00m \u001b[38;5;28;43mself\u001b[39;49m\u001b[38;5;241;43m.\u001b[39;49m\u001b[43mread_value\u001b[49m\u001b[43m(\u001b[49m\u001b[43m)\u001b[49m\u001b[38;5;241m.\u001b[39mnumpy()\n\u001b[0;32m    638\u001b[0m   \u001b[38;5;28;01mraise\u001b[39;00m \u001b[38;5;167;01mNotImplementedError\u001b[39;00m(\n\u001b[0;32m    639\u001b[0m       \u001b[38;5;124m\"\u001b[39m\u001b[38;5;124mnumpy() is only available when eager execution is enabled.\u001b[39m\u001b[38;5;124m\"\u001b[39m)\n",
      "File \u001b[1;32mD:\\Programming\\Python\\Machine Learning\\ml\\lib\\site-packages\\tensorflow\\python\\ops\\resource_variable_ops.py:725\u001b[0m, in \u001b[0;36mBaseResourceVariable.read_value\u001b[1;34m(self)\u001b[0m\n\u001b[0;32m    716\u001b[0m \u001b[38;5;250m\u001b[39m\u001b[38;5;124;03m\"\"\"Constructs an op which reads the value of this variable.\u001b[39;00m\n\u001b[0;32m    717\u001b[0m \n\u001b[0;32m    718\u001b[0m \u001b[38;5;124;03mShould be used when there are multiple reads, or when it is desirable to\u001b[39;00m\n\u001b[1;32m   (...)\u001b[0m\n\u001b[0;32m    722\u001b[0m \u001b[38;5;124;03m  The value of the variable.\u001b[39;00m\n\u001b[0;32m    723\u001b[0m \u001b[38;5;124;03m\"\"\"\u001b[39;00m\n\u001b[0;32m    724\u001b[0m \u001b[38;5;28;01mwith\u001b[39;00m ops\u001b[38;5;241m.\u001b[39mname_scope(\u001b[38;5;124m\"\u001b[39m\u001b[38;5;124mRead\u001b[39m\u001b[38;5;124m\"\u001b[39m):\n\u001b[1;32m--> 725\u001b[0m   value \u001b[38;5;241m=\u001b[39m \u001b[38;5;28;43mself\u001b[39;49m\u001b[38;5;241;43m.\u001b[39;49m\u001b[43m_read_variable_op\u001b[49m\u001b[43m(\u001b[49m\u001b[43m)\u001b[49m\n\u001b[0;32m    726\u001b[0m \u001b[38;5;66;03m# Return an identity so it can get placed on whatever device the context\u001b[39;00m\n\u001b[0;32m    727\u001b[0m \u001b[38;5;66;03m# specifies instead of the device where the variable is.\u001b[39;00m\n\u001b[0;32m    728\u001b[0m \u001b[38;5;28;01mreturn\u001b[39;00m array_ops\u001b[38;5;241m.\u001b[39midentity(value)\n",
      "File \u001b[1;32mD:\\Programming\\Python\\Machine Learning\\ml\\lib\\site-packages\\tensorflow\\python\\ops\\resource_variable_ops.py:704\u001b[0m, in \u001b[0;36mBaseResourceVariable._read_variable_op\u001b[1;34m(self, no_copy)\u001b[0m\n\u001b[0;32m    702\u001b[0m       result \u001b[38;5;241m=\u001b[39m read_and_set_handle(no_copy)\n\u001b[0;32m    703\u001b[0m \u001b[38;5;28;01melse\u001b[39;00m:\n\u001b[1;32m--> 704\u001b[0m   result \u001b[38;5;241m=\u001b[39m \u001b[43mread_and_set_handle\u001b[49m\u001b[43m(\u001b[49m\u001b[43mno_copy\u001b[49m\u001b[43m)\u001b[49m\n\u001b[0;32m    706\u001b[0m \u001b[38;5;28;01mif\u001b[39;00m \u001b[38;5;129;01mnot\u001b[39;00m context\u001b[38;5;241m.\u001b[39mexecuting_eagerly():\n\u001b[0;32m    707\u001b[0m   \u001b[38;5;66;03m# Note that if a control flow context is active the input of the read op\u001b[39;00m\n\u001b[0;32m    708\u001b[0m   \u001b[38;5;66;03m# might not actually be the handle. This line bypasses it.\u001b[39;00m\n\u001b[0;32m    709\u001b[0m   tape\u001b[38;5;241m.\u001b[39mrecord_operation(\n\u001b[0;32m    710\u001b[0m       \u001b[38;5;124m\"\u001b[39m\u001b[38;5;124mReadVariableOp\u001b[39m\u001b[38;5;124m\"\u001b[39m, [result], [\u001b[38;5;28mself\u001b[39m\u001b[38;5;241m.\u001b[39mhandle],\n\u001b[0;32m    711\u001b[0m       backward_function\u001b[38;5;241m=\u001b[39m\u001b[38;5;28;01mlambda\u001b[39;00m x: [x],\n\u001b[0;32m    712\u001b[0m       forward_function\u001b[38;5;241m=\u001b[39m\u001b[38;5;28;01mlambda\u001b[39;00m x: [x])\n",
      "File \u001b[1;32mD:\\Programming\\Python\\Machine Learning\\ml\\lib\\site-packages\\tensorflow\\python\\ops\\resource_variable_ops.py:694\u001b[0m, in \u001b[0;36mBaseResourceVariable._read_variable_op.<locals>.read_and_set_handle\u001b[1;34m(no_copy)\u001b[0m\n\u001b[0;32m    692\u001b[0m \u001b[38;5;28;01mif\u001b[39;00m no_copy \u001b[38;5;129;01mand\u001b[39;00m forward_compat\u001b[38;5;241m.\u001b[39mforward_compatible(\u001b[38;5;241m2022\u001b[39m, \u001b[38;5;241m5\u001b[39m, \u001b[38;5;241m3\u001b[39m):\n\u001b[0;32m    693\u001b[0m   gen_resource_variable_ops\u001b[38;5;241m.\u001b[39mdisable_copy_on_read(\u001b[38;5;28mself\u001b[39m\u001b[38;5;241m.\u001b[39mhandle)\n\u001b[1;32m--> 694\u001b[0m result \u001b[38;5;241m=\u001b[39m \u001b[43mgen_resource_variable_ops\u001b[49m\u001b[38;5;241;43m.\u001b[39;49m\u001b[43mread_variable_op\u001b[49m\u001b[43m(\u001b[49m\n\u001b[0;32m    695\u001b[0m \u001b[43m    \u001b[49m\u001b[38;5;28;43mself\u001b[39;49m\u001b[38;5;241;43m.\u001b[39;49m\u001b[43mhandle\u001b[49m\u001b[43m,\u001b[49m\u001b[43m \u001b[49m\u001b[38;5;28;43mself\u001b[39;49m\u001b[38;5;241;43m.\u001b[39;49m\u001b[43m_dtype\u001b[49m\u001b[43m)\u001b[49m\n\u001b[0;32m    696\u001b[0m _maybe_set_handle_data(\u001b[38;5;28mself\u001b[39m\u001b[38;5;241m.\u001b[39m_dtype, \u001b[38;5;28mself\u001b[39m\u001b[38;5;241m.\u001b[39mhandle, result)\n\u001b[0;32m    697\u001b[0m \u001b[38;5;28;01mreturn\u001b[39;00m result\n",
      "File \u001b[1;32mD:\\Programming\\Python\\Machine Learning\\ml\\lib\\site-packages\\tensorflow\\python\\ops\\gen_resource_variable_ops.py:524\u001b[0m, in \u001b[0;36mread_variable_op\u001b[1;34m(resource, dtype, name)\u001b[0m\n\u001b[0;32m    522\u001b[0m \u001b[38;5;28;01mif\u001b[39;00m tld\u001b[38;5;241m.\u001b[39mis_eager:\n\u001b[0;32m    523\u001b[0m   \u001b[38;5;28;01mtry\u001b[39;00m:\n\u001b[1;32m--> 524\u001b[0m     _result \u001b[38;5;241m=\u001b[39m \u001b[43mpywrap_tfe\u001b[49m\u001b[38;5;241;43m.\u001b[39;49m\u001b[43mTFE_Py_FastPathExecute\u001b[49m\u001b[43m(\u001b[49m\n\u001b[0;32m    525\u001b[0m \u001b[43m      \u001b[49m\u001b[43m_ctx\u001b[49m\u001b[43m,\u001b[49m\u001b[43m \u001b[49m\u001b[38;5;124;43m\"\u001b[39;49m\u001b[38;5;124;43mReadVariableOp\u001b[39;49m\u001b[38;5;124;43m\"\u001b[39;49m\u001b[43m,\u001b[49m\u001b[43m \u001b[49m\u001b[43mname\u001b[49m\u001b[43m,\u001b[49m\u001b[43m \u001b[49m\u001b[43mresource\u001b[49m\u001b[43m,\u001b[49m\u001b[43m \u001b[49m\u001b[38;5;124;43m\"\u001b[39;49m\u001b[38;5;124;43mdtype\u001b[39;49m\u001b[38;5;124;43m\"\u001b[39;49m\u001b[43m,\u001b[49m\u001b[43m \u001b[49m\u001b[43mdtype\u001b[49m\u001b[43m)\u001b[49m\n\u001b[0;32m    526\u001b[0m     \u001b[38;5;28;01mreturn\u001b[39;00m _result\n\u001b[0;32m    527\u001b[0m   \u001b[38;5;28;01mexcept\u001b[39;00m _core\u001b[38;5;241m.\u001b[39m_NotOkStatusException \u001b[38;5;28;01mas\u001b[39;00m e:\n",
      "\u001b[1;31mKeyboardInterrupt\u001b[0m: "
     ]
    }
   ],
   "source": [
    "# Architecture 3: 32-256-3 Feed Forward Neural Network with 'sigmoid' and 'softmax'\n",
    "# Defining the ANN architecture\n",
    "model = tf.keras.models.Sequential()\n",
    "model.add(tf.keras.layers.Dense(32, activation='sigmoid', input_dim=input_dimension)) \n",
    "model.add(tf.keras.layers.Dense(256, activation='sigmoid')) \n",
    "model.add(tf.keras.layers.Dropout(0.2))\n",
    "model.add(tf.keras.layers.Flatten()) \n",
    "model.add(tf.keras.layers.Dense(num_classes, activation='softmax')) \n",
    "# Model Compilation\n",
    "model.compile(optimizer=tf.keras.optimizers.SGD(learning_rate=learning_rate),\n",
    "              loss='categorical_crossentropy',\n",
    "              metrics=['accuracy'])\n",
    "# Stopping early to avoid overfitting\n",
    "stop_callback = myCallback()\n",
    "# Training\n",
    "history = model.fit(x_train_reshaped, y_train_encoded, epochs=epochs, batch_size=batch_size, validation_data=(x_test_reshaped, y_test_encoded), callbacks=[stop_callback])\n",
    "\n",
    "# Plotting training and testing curves\n",
    "default_size = plt.rcParams['figure.figsize']\n",
    "fig = plt.figure(figsize=[default_size[0] * 2, default_size[1]])\n",
    "\n",
    "fig.add_subplot(1, 2, 1)\n",
    "plt.plot(history.history['accuracy'], label = 'accuracy')          # Train accuracy (blue)\n",
    "plt.plot(history.history['val_accuracy'], label = 'val_accuracy')  # Valid accuracy (orange)\n",
    "plt.xlabel('Epoch')\n",
    "plt.ylabel('Accuracy')\n",
    "plt.title('Accuracy')\n",
    "plt.legend(loc='lower right')\n",
    "\n",
    "fig.add_subplot(1, 2, 2)\n",
    "plt.plot(history.history['loss'], label='loss')          # Train loss (blue)\n",
    "plt.plot(history.history['val_loss'], label='val_loss')  # Valid loss (orange)\n",
    "plt.xlabel('Epoch')\n",
    "plt.ylabel('Loss')\n",
    "plt.title('Loss')\n",
    "plt.legend(loc='upper right')\n",
    "plt.show()"
   ]
  },
  {
   "cell_type": "markdown",
   "id": "32c5a0ac",
   "metadata": {},
   "source": [
    "##### RNN"
   ]
  },
  {
   "cell_type": "code",
   "execution_count": 32,
   "id": "f06529a1",
   "metadata": {},
   "outputs": [
    {
     "name": "stdout",
     "output_type": "stream",
     "text": [
      "Epoch 1/150\n",
      "457/457 [==============================] - 4s 8ms/step - loss: 1.2611 - accuracy: 0.4045 - val_loss: 1.2439 - val_accuracy: 0.4270\n",
      "Epoch 2/150\n",
      "457/457 [==============================] - 3s 7ms/step - loss: 1.2466 - accuracy: 0.4147 - val_loss: 1.2466 - val_accuracy: 0.4240\n",
      "Epoch 3/150\n",
      "457/457 [==============================] - 3s 7ms/step - loss: 1.2424 - accuracy: 0.4198 - val_loss: 1.2400 - val_accuracy: 0.4259\n",
      "Epoch 4/150\n",
      "457/457 [==============================] - 3s 7ms/step - loss: 1.2407 - accuracy: 0.4242 - val_loss: 1.2415 - val_accuracy: 0.4248\n",
      "Epoch 5/150\n",
      "457/457 [==============================] - 3s 7ms/step - loss: 1.2386 - accuracy: 0.4221 - val_loss: 1.2380 - val_accuracy: 0.4292\n",
      "Epoch 6/150\n",
      "457/457 [==============================] - 3s 7ms/step - loss: 1.2366 - accuracy: 0.4234 - val_loss: 1.2417 - val_accuracy: 0.4283\n",
      "Epoch 7/150\n",
      "457/457 [==============================] - 3s 7ms/step - loss: 1.2343 - accuracy: 0.4254 - val_loss: 1.2431 - val_accuracy: 0.4243\n",
      "Epoch 8/150\n",
      "457/457 [==============================] - 3s 7ms/step - loss: 1.2333 - accuracy: 0.4251 - val_loss: 1.2365 - val_accuracy: 0.4306\n",
      "Epoch 9/150\n",
      "457/457 [==============================] - 3s 7ms/step - loss: 1.2332 - accuracy: 0.4269 - val_loss: 1.2337 - val_accuracy: 0.4338\n",
      "Epoch 10/150\n",
      "457/457 [==============================] - 3s 7ms/step - loss: 1.2298 - accuracy: 0.4293 - val_loss: 1.2342 - val_accuracy: 0.4317\n",
      "Epoch 11/150\n",
      "457/457 [==============================] - 3s 7ms/step - loss: 1.2298 - accuracy: 0.4277 - val_loss: 1.2319 - val_accuracy: 0.4326\n",
      "Epoch 12/150\n",
      "457/457 [==============================] - 3s 7ms/step - loss: 1.2285 - accuracy: 0.4299 - val_loss: 1.2317 - val_accuracy: 0.4367\n",
      "Epoch 13/150\n",
      "457/457 [==============================] - 3s 7ms/step - loss: 1.2268 - accuracy: 0.4283 - val_loss: 1.2320 - val_accuracy: 0.4337\n",
      "Epoch 14/150\n",
      "457/457 [==============================] - 4s 8ms/step - loss: 1.2264 - accuracy: 0.4310 - val_loss: 1.2323 - val_accuracy: 0.4336\n",
      "Epoch 15/150\n",
      "457/457 [==============================] - 4s 8ms/step - loss: 1.2245 - accuracy: 0.4312 - val_loss: 1.2321 - val_accuracy: 0.4336\n",
      "Epoch 16/150\n",
      "457/457 [==============================] - 4s 8ms/step - loss: 1.2235 - accuracy: 0.4304 - val_loss: 1.2351 - val_accuracy: 0.4276\n",
      "Epoch 17/150\n",
      "457/457 [==============================] - 3s 7ms/step - loss: 1.2232 - accuracy: 0.4333 - val_loss: 1.2334 - val_accuracy: 0.4292\n",
      "Epoch 18/150\n",
      "457/457 [==============================] - 3s 7ms/step - loss: 1.2226 - accuracy: 0.4339 - val_loss: 1.2326 - val_accuracy: 0.4345\n",
      "Epoch 19/150\n",
      "457/457 [==============================] - 4s 8ms/step - loss: 1.2228 - accuracy: 0.4320 - val_loss: 1.2319 - val_accuracy: 0.4293\n",
      "Epoch 20/150\n",
      "457/457 [==============================] - 3s 7ms/step - loss: 1.2209 - accuracy: 0.4322 - val_loss: 1.2284 - val_accuracy: 0.4348\n",
      "Epoch 21/150\n",
      "457/457 [==============================] - 3s 7ms/step - loss: 1.2207 - accuracy: 0.4321 - val_loss: 1.2303 - val_accuracy: 0.4336\n",
      "Epoch 22/150\n",
      "457/457 [==============================] - 3s 7ms/step - loss: 1.2193 - accuracy: 0.4358 - val_loss: 1.2311 - val_accuracy: 0.4323\n",
      "Epoch 23/150\n",
      "457/457 [==============================] - 3s 7ms/step - loss: 1.2196 - accuracy: 0.4350 - val_loss: 1.2333 - val_accuracy: 0.4261\n",
      "Epoch 24/150\n",
      "457/457 [==============================] - 3s 7ms/step - loss: 1.2183 - accuracy: 0.4349 - val_loss: 1.2300 - val_accuracy: 0.4340\n",
      "Epoch 25/150\n",
      "457/457 [==============================] - 3s 7ms/step - loss: 1.2172 - accuracy: 0.4360 - val_loss: 1.2314 - val_accuracy: 0.4370\n",
      "Epoch 26/150\n",
      "457/457 [==============================] - 3s 7ms/step - loss: 1.2171 - accuracy: 0.4374 - val_loss: 1.2332 - val_accuracy: 0.4301\n",
      "Epoch 27/150\n",
      "457/457 [==============================] - 3s 7ms/step - loss: 1.2160 - accuracy: 0.4367 - val_loss: 1.2305 - val_accuracy: 0.4328\n",
      "Epoch 28/150\n",
      "457/457 [==============================] - 3s 7ms/step - loss: 1.2159 - accuracy: 0.4369 - val_loss: 1.2286 - val_accuracy: 0.4371\n",
      "Epoch 29/150\n",
      "457/457 [==============================] - 3s 7ms/step - loss: 1.2154 - accuracy: 0.4371 - val_loss: 1.2306 - val_accuracy: 0.4297\n",
      "Epoch 30/150\n",
      "457/457 [==============================] - 3s 7ms/step - loss: 1.2145 - accuracy: 0.4371 - val_loss: 1.2305 - val_accuracy: 0.4325\n",
      "Epoch 31/150\n",
      "457/457 [==============================] - 3s 7ms/step - loss: 1.2138 - accuracy: 0.4383 - val_loss: 1.2314 - val_accuracy: 0.4327\n",
      "Epoch 32/150\n",
      "457/457 [==============================] - 3s 7ms/step - loss: 1.2130 - accuracy: 0.4387 - val_loss: 1.2299 - val_accuracy: 0.4357\n",
      "Epoch 33/150\n",
      "457/457 [==============================] - 3s 7ms/step - loss: 1.2126 - accuracy: 0.4398 - val_loss: 1.2288 - val_accuracy: 0.4350\n",
      "Epoch 34/150\n",
      "457/457 [==============================] - 3s 7ms/step - loss: 1.2113 - accuracy: 0.4396 - val_loss: 1.2289 - val_accuracy: 0.4349\n",
      "Epoch 35/150\n",
      "457/457 [==============================] - 3s 7ms/step - loss: 1.2110 - accuracy: 0.4405 - val_loss: 1.2295 - val_accuracy: 0.4290\n",
      "Epoch 36/150\n",
      "457/457 [==============================] - 3s 8ms/step - loss: 1.2116 - accuracy: 0.4409 - val_loss: 1.2313 - val_accuracy: 0.4345\n",
      "Epoch 37/150\n",
      "457/457 [==============================] - 3s 7ms/step - loss: 1.2101 - accuracy: 0.4416 - val_loss: 1.2302 - val_accuracy: 0.4335\n",
      "Epoch 38/150\n",
      "457/457 [==============================] - 3s 7ms/step - loss: 1.2098 - accuracy: 0.4415 - val_loss: 1.2287 - val_accuracy: 0.4306\n",
      "Epoch 39/150\n",
      "457/457 [==============================] - 3s 8ms/step - loss: 1.2094 - accuracy: 0.4430 - val_loss: 1.2304 - val_accuracy: 0.4338\n",
      "Epoch 40/150\n",
      "457/457 [==============================] - 3s 7ms/step - loss: 1.2089 - accuracy: 0.4434 - val_loss: 1.2264 - val_accuracy: 0.4378\n",
      "Epoch 41/150\n",
      "457/457 [==============================] - 3s 8ms/step - loss: 1.2082 - accuracy: 0.4413 - val_loss: 1.2313 - val_accuracy: 0.4347\n",
      "Epoch 42/150\n",
      "457/457 [==============================] - 3s 7ms/step - loss: 1.2073 - accuracy: 0.4414 - val_loss: 1.2305 - val_accuracy: 0.4344\n",
      "Epoch 43/150\n",
      "457/457 [==============================] - 3s 7ms/step - loss: 1.2082 - accuracy: 0.4427 - val_loss: 1.2323 - val_accuracy: 0.4353\n",
      "Epoch 44/150\n",
      "457/457 [==============================] - 3s 7ms/step - loss: 1.2068 - accuracy: 0.4455 - val_loss: 1.2335 - val_accuracy: 0.4308\n",
      "Epoch 45/150\n",
      "457/457 [==============================] - 3s 7ms/step - loss: 1.2073 - accuracy: 0.4438 - val_loss: 1.2288 - val_accuracy: 0.4365\n",
      "Epoch 46/150\n",
      "457/457 [==============================] - 3s 7ms/step - loss: 1.2068 - accuracy: 0.4420 - val_loss: 1.2287 - val_accuracy: 0.4348\n",
      "Epoch 47/150\n",
      "457/457 [==============================] - 3s 7ms/step - loss: 1.2050 - accuracy: 0.4433 - val_loss: 1.2297 - val_accuracy: 0.4357\n",
      "Epoch 48/150\n",
      "457/457 [==============================] - 3s 7ms/step - loss: 1.2053 - accuracy: 0.4445 - val_loss: 1.2321 - val_accuracy: 0.4315\n",
      "Epoch 49/150\n",
      "457/457 [==============================] - 3s 7ms/step - loss: 1.2044 - accuracy: 0.4441 - val_loss: 1.2299 - val_accuracy: 0.4385\n",
      "Epoch 50/150\n",
      "457/457 [==============================] - 3s 7ms/step - loss: 1.2038 - accuracy: 0.4464 - val_loss: 1.2311 - val_accuracy: 0.4325\n",
      "Epoch 51/150\n",
      "457/457 [==============================] - 3s 7ms/step - loss: 1.2040 - accuracy: 0.4469 - val_loss: 1.2301 - val_accuracy: 0.4342\n",
      "Epoch 52/150\n",
      "457/457 [==============================] - 3s 7ms/step - loss: 1.2031 - accuracy: 0.4443 - val_loss: 1.2282 - val_accuracy: 0.4353\n",
      "Epoch 53/150\n",
      "457/457 [==============================] - 3s 7ms/step - loss: 1.2025 - accuracy: 0.4465 - val_loss: 1.2325 - val_accuracy: 0.4355\n",
      "Epoch 54/150\n",
      "457/457 [==============================] - 3s 7ms/step - loss: 1.2019 - accuracy: 0.4460 - val_loss: 1.2273 - val_accuracy: 0.4332\n",
      "Epoch 55/150\n",
      "457/457 [==============================] - 3s 7ms/step - loss: 1.2020 - accuracy: 0.4475 - val_loss: 1.2289 - val_accuracy: 0.4376\n",
      "Epoch 56/150\n",
      "457/457 [==============================] - 3s 7ms/step - loss: 1.2016 - accuracy: 0.4445 - val_loss: 1.2287 - val_accuracy: 0.4352\n",
      "Epoch 57/150\n",
      "457/457 [==============================] - 3s 7ms/step - loss: 1.2005 - accuracy: 0.4450 - val_loss: 1.2311 - val_accuracy: 0.4356\n"
     ]
    },
    {
     "name": "stdout",
     "output_type": "stream",
     "text": [
      "Epoch 58/150\n",
      "457/457 [==============================] - 4s 8ms/step - loss: 1.2004 - accuracy: 0.4485 - val_loss: 1.2293 - val_accuracy: 0.4378\n",
      "Epoch 59/150\n",
      "457/457 [==============================] - 3s 7ms/step - loss: 1.2006 - accuracy: 0.4485 - val_loss: 1.2302 - val_accuracy: 0.4385\n",
      "Epoch 60/150\n",
      "457/457 [==============================] - 3s 7ms/step - loss: 1.1999 - accuracy: 0.4461 - val_loss: 1.2278 - val_accuracy: 0.4370\n",
      "Epoch 61/150\n",
      "457/457 [==============================] - 3s 7ms/step - loss: 1.1993 - accuracy: 0.4491 - val_loss: 1.2291 - val_accuracy: 0.4365\n",
      "Epoch 62/150\n",
      "457/457 [==============================] - 3s 7ms/step - loss: 1.1995 - accuracy: 0.4467 - val_loss: 1.2312 - val_accuracy: 0.4380\n",
      "Epoch 63/150\n",
      "457/457 [==============================] - 3s 7ms/step - loss: 1.1990 - accuracy: 0.4488 - val_loss: 1.2290 - val_accuracy: 0.4349\n",
      "Epoch 64/150\n",
      "457/457 [==============================] - 3s 7ms/step - loss: 1.1990 - accuracy: 0.4483 - val_loss: 1.2276 - val_accuracy: 0.4361\n",
      "Epoch 65/150\n",
      "457/457 [==============================] - 3s 7ms/step - loss: 1.1965 - accuracy: 0.4484 - val_loss: 1.2299 - val_accuracy: 0.4364\n",
      "Epoch 66/150\n",
      "457/457 [==============================] - 3s 7ms/step - loss: 1.1959 - accuracy: 0.4511 - val_loss: 1.2289 - val_accuracy: 0.4384\n",
      "Epoch 67/150\n",
      "457/457 [==============================] - 3s 7ms/step - loss: 1.1957 - accuracy: 0.4515 - val_loss: 1.2291 - val_accuracy: 0.4318\n",
      "Epoch 68/150\n",
      "457/457 [==============================] - 3s 7ms/step - loss: 1.1962 - accuracy: 0.4500 - val_loss: 1.2304 - val_accuracy: 0.4333\n",
      "Epoch 69/150\n",
      "457/457 [==============================] - 3s 7ms/step - loss: 1.1954 - accuracy: 0.4511 - val_loss: 1.2293 - val_accuracy: 0.4401\n",
      "Epoch 70/150\n",
      "457/457 [==============================] - 3s 7ms/step - loss: 1.1937 - accuracy: 0.4515 - val_loss: 1.2303 - val_accuracy: 0.4346\n",
      "Epoch 71/150\n",
      "457/457 [==============================] - 3s 7ms/step - loss: 1.1948 - accuracy: 0.4491 - val_loss: 1.2276 - val_accuracy: 0.4348\n",
      "Epoch 72/150\n",
      "457/457 [==============================] - 3s 7ms/step - loss: 1.1951 - accuracy: 0.4508 - val_loss: 1.2285 - val_accuracy: 0.4386\n",
      "Epoch 73/150\n",
      "457/457 [==============================] - 3s 7ms/step - loss: 1.1936 - accuracy: 0.4503 - val_loss: 1.2289 - val_accuracy: 0.4329\n",
      "Epoch 74/150\n",
      "457/457 [==============================] - 3s 7ms/step - loss: 1.1932 - accuracy: 0.4536 - val_loss: 1.2312 - val_accuracy: 0.4336\n",
      "Epoch 75/150\n",
      "457/457 [==============================] - 3s 7ms/step - loss: 1.1925 - accuracy: 0.4514 - val_loss: 1.2344 - val_accuracy: 0.4358\n",
      "Epoch 76/150\n",
      "457/457 [==============================] - 3s 7ms/step - loss: 1.1904 - accuracy: 0.4529 - val_loss: 1.2290 - val_accuracy: 0.4396\n",
      "Epoch 77/150\n",
      "457/457 [==============================] - 3s 7ms/step - loss: 1.1916 - accuracy: 0.4516 - val_loss: 1.2316 - val_accuracy: 0.4359\n",
      "Epoch 78/150\n",
      "457/457 [==============================] - 3s 7ms/step - loss: 1.1915 - accuracy: 0.4523 - val_loss: 1.2330 - val_accuracy: 0.4375\n",
      "Epoch 79/150\n",
      "457/457 [==============================] - 3s 7ms/step - loss: 1.1915 - accuracy: 0.4542 - val_loss: 1.2302 - val_accuracy: 0.4323\n",
      "Epoch 80/150\n",
      "457/457 [==============================] - 3s 7ms/step - loss: 1.1911 - accuracy: 0.4526 - val_loss: 1.2278 - val_accuracy: 0.4361\n",
      "Epoch 81/150\n",
      "457/457 [==============================] - 3s 7ms/step - loss: 1.1904 - accuracy: 0.4543 - val_loss: 1.2297 - val_accuracy: 0.4329\n",
      "Epoch 82/150\n",
      "457/457 [==============================] - 3s 7ms/step - loss: 1.1895 - accuracy: 0.4504 - val_loss: 1.2326 - val_accuracy: 0.4355\n",
      "Epoch 83/150\n",
      "457/457 [==============================] - 3s 7ms/step - loss: 1.1905 - accuracy: 0.4520 - val_loss: 1.2336 - val_accuracy: 0.4305\n",
      "Epoch 84/150\n",
      "457/457 [==============================] - 3s 7ms/step - loss: 1.1898 - accuracy: 0.4551 - val_loss: 1.2280 - val_accuracy: 0.4337\n",
      "Epoch 85/150\n",
      "457/457 [==============================] - 3s 7ms/step - loss: 1.1887 - accuracy: 0.4557 - val_loss: 1.2295 - val_accuracy: 0.4346\n",
      "Epoch 86/150\n",
      "457/457 [==============================] - 3s 7ms/step - loss: 1.1906 - accuracy: 0.4550 - val_loss: 1.2311 - val_accuracy: 0.4316\n",
      "Epoch 87/150\n",
      "457/457 [==============================] - 3s 8ms/step - loss: 1.1899 - accuracy: 0.4541 - val_loss: 1.2287 - val_accuracy: 0.4360\n",
      "Epoch 88/150\n",
      "457/457 [==============================] - 3s 7ms/step - loss: 1.1884 - accuracy: 0.4545 - val_loss: 1.2330 - val_accuracy: 0.4291\n",
      "Epoch 89/150\n",
      "457/457 [==============================] - 3s 7ms/step - loss: 1.1891 - accuracy: 0.4529 - val_loss: 1.2277 - val_accuracy: 0.4403\n",
      "Epoch 90/150\n",
      "457/457 [==============================] - 3s 8ms/step - loss: 1.1865 - accuracy: 0.4552 - val_loss: 1.2334 - val_accuracy: 0.4338\n",
      "Epoch 91/150\n",
      "457/457 [==============================] - 4s 8ms/step - loss: 1.1881 - accuracy: 0.4572 - val_loss: 1.2281 - val_accuracy: 0.4351\n",
      "Epoch 92/150\n",
      "457/457 [==============================] - 4s 8ms/step - loss: 1.1878 - accuracy: 0.4528 - val_loss: 1.2314 - val_accuracy: 0.4322\n",
      "Epoch 93/150\n",
      "457/457 [==============================] - 4s 8ms/step - loss: 1.1868 - accuracy: 0.4536 - val_loss: 1.2290 - val_accuracy: 0.4355\n",
      "Epoch 94/150\n",
      "457/457 [==============================] - 4s 8ms/step - loss: 1.1859 - accuracy: 0.4550 - val_loss: 1.2297 - val_accuracy: 0.4334\n",
      "Epoch 95/150\n",
      "457/457 [==============================] - 3s 7ms/step - loss: 1.1875 - accuracy: 0.4533 - val_loss: 1.2282 - val_accuracy: 0.4313\n",
      "Epoch 96/150\n",
      "457/457 [==============================] - 3s 7ms/step - loss: 1.1864 - accuracy: 0.4562 - val_loss: 1.2294 - val_accuracy: 0.4329\n",
      "Epoch 97/150\n",
      "457/457 [==============================] - 3s 7ms/step - loss: 1.1857 - accuracy: 0.4585 - val_loss: 1.2294 - val_accuracy: 0.4358\n",
      "Epoch 98/150\n",
      "457/457 [==============================] - 3s 7ms/step - loss: 1.1844 - accuracy: 0.4575 - val_loss: 1.2283 - val_accuracy: 0.4353\n",
      "Epoch 99/150\n",
      "457/457 [==============================] - 3s 7ms/step - loss: 1.1832 - accuracy: 0.4565 - val_loss: 1.2298 - val_accuracy: 0.4329\n",
      "Epoch 100/150\n",
      "457/457 [==============================] - 3s 7ms/step - loss: 1.1831 - accuracy: 0.4573 - val_loss: 1.2294 - val_accuracy: 0.4354\n",
      "Epoch 101/150\n",
      "457/457 [==============================] - 3s 7ms/step - loss: 1.1837 - accuracy: 0.4568 - val_loss: 1.2333 - val_accuracy: 0.4339\n",
      "Epoch 102/150\n",
      "457/457 [==============================] - 3s 7ms/step - loss: 1.1842 - accuracy: 0.4573 - val_loss: 1.2296 - val_accuracy: 0.4363\n",
      "Epoch 103/150\n",
      "457/457 [==============================] - 3s 7ms/step - loss: 1.1842 - accuracy: 0.4574 - val_loss: 1.2298 - val_accuracy: 0.4385\n",
      "Epoch 104/150\n",
      "457/457 [==============================] - 3s 7ms/step - loss: 1.1816 - accuracy: 0.4575 - val_loss: 1.2290 - val_accuracy: 0.4406\n",
      "Epoch 105/150\n",
      "457/457 [==============================] - 3s 7ms/step - loss: 1.1830 - accuracy: 0.4559 - val_loss: 1.2296 - val_accuracy: 0.4319\n",
      "Epoch 106/150\n",
      "457/457 [==============================] - 3s 7ms/step - loss: 1.1815 - accuracy: 0.4581 - val_loss: 1.2308 - val_accuracy: 0.4343\n",
      "Epoch 107/150\n",
      "457/457 [==============================] - 3s 7ms/step - loss: 1.1820 - accuracy: 0.4572 - val_loss: 1.2340 - val_accuracy: 0.4345\n",
      "Epoch 108/150\n",
      "457/457 [==============================] - 3s 7ms/step - loss: 1.1826 - accuracy: 0.4586 - val_loss: 1.2321 - val_accuracy: 0.4329\n",
      "Epoch 109/150\n",
      "457/457 [==============================] - 4s 8ms/step - loss: 1.1819 - accuracy: 0.4600 - val_loss: 1.2320 - val_accuracy: 0.4347\n",
      "Epoch 110/150\n",
      "457/457 [==============================] - 3s 8ms/step - loss: 1.1814 - accuracy: 0.4592 - val_loss: 1.2297 - val_accuracy: 0.4356\n",
      "Epoch 111/150\n",
      "457/457 [==============================] - 3s 7ms/step - loss: 1.1802 - accuracy: 0.4613 - val_loss: 1.2337 - val_accuracy: 0.4359\n",
      "Epoch 112/150\n",
      "457/457 [==============================] - 3s 7ms/step - loss: 1.1798 - accuracy: 0.4572 - val_loss: 1.2312 - val_accuracy: 0.4358\n",
      "Epoch 113/150\n",
      "457/457 [==============================] - 3s 7ms/step - loss: 1.1804 - accuracy: 0.4602 - val_loss: 1.2312 - val_accuracy: 0.4339\n",
      "Epoch 114/150\n",
      "457/457 [==============================] - 3s 7ms/step - loss: 1.1798 - accuracy: 0.4609 - val_loss: 1.2325 - val_accuracy: 0.4306\n"
     ]
    },
    {
     "name": "stdout",
     "output_type": "stream",
     "text": [
      "Epoch 115/150\n",
      "457/457 [==============================] - 3s 7ms/step - loss: 1.1791 - accuracy: 0.4598 - val_loss: 1.2369 - val_accuracy: 0.4297\n",
      "Epoch 116/150\n",
      "457/457 [==============================] - 3s 7ms/step - loss: 1.1794 - accuracy: 0.4595 - val_loss: 1.2311 - val_accuracy: 0.4404\n",
      "Epoch 117/150\n",
      "457/457 [==============================] - 3s 7ms/step - loss: 1.1789 - accuracy: 0.4602 - val_loss: 1.2360 - val_accuracy: 0.4325\n",
      "Epoch 118/150\n",
      "457/457 [==============================] - 3s 7ms/step - loss: 1.1801 - accuracy: 0.4571 - val_loss: 1.2309 - val_accuracy: 0.4370\n",
      "Epoch 119/150\n",
      "457/457 [==============================] - 3s 7ms/step - loss: 1.1779 - accuracy: 0.4596 - val_loss: 1.2313 - val_accuracy: 0.4327\n",
      "Epoch 120/150\n",
      "457/457 [==============================] - 3s 7ms/step - loss: 1.1789 - accuracy: 0.4594 - val_loss: 1.2317 - val_accuracy: 0.4322\n",
      "Epoch 121/150\n",
      "457/457 [==============================] - 3s 7ms/step - loss: 1.1770 - accuracy: 0.4596 - val_loss: 1.2344 - val_accuracy: 0.4324\n",
      "Epoch 122/150\n",
      "457/457 [==============================] - 3s 7ms/step - loss: 1.1768 - accuracy: 0.4609 - val_loss: 1.2302 - val_accuracy: 0.4381\n",
      "Epoch 123/150\n",
      "457/457 [==============================] - 3s 7ms/step - loss: 1.1780 - accuracy: 0.4598 - val_loss: 1.2318 - val_accuracy: 0.4335\n",
      "Epoch 124/150\n",
      "457/457 [==============================] - 3s 7ms/step - loss: 1.1762 - accuracy: 0.4613 - val_loss: 1.2306 - val_accuracy: 0.4365\n",
      "Epoch 125/150\n",
      "457/457 [==============================] - 3s 7ms/step - loss: 1.1754 - accuracy: 0.4629 - val_loss: 1.2296 - val_accuracy: 0.4337\n",
      "Epoch 126/150\n",
      "457/457 [==============================] - 3s 7ms/step - loss: 1.1739 - accuracy: 0.4597 - val_loss: 1.2342 - val_accuracy: 0.4382\n",
      "Epoch 127/150\n",
      "457/457 [==============================] - 3s 7ms/step - loss: 1.1759 - accuracy: 0.4643 - val_loss: 1.2339 - val_accuracy: 0.4329\n",
      "Epoch 128/150\n",
      "457/457 [==============================] - 3s 7ms/step - loss: 1.1739 - accuracy: 0.4617 - val_loss: 1.2321 - val_accuracy: 0.4338\n",
      "Epoch 129/150\n",
      "457/457 [==============================] - 3s 7ms/step - loss: 1.1754 - accuracy: 0.4624 - val_loss: 1.2336 - val_accuracy: 0.4276\n",
      "Epoch 130/150\n",
      "457/457 [==============================] - 3s 7ms/step - loss: 1.1736 - accuracy: 0.4609 - val_loss: 1.2347 - val_accuracy: 0.4317\n",
      "Epoch 131/150\n",
      "457/457 [==============================] - 3s 7ms/step - loss: 1.1751 - accuracy: 0.4632 - val_loss: 1.2348 - val_accuracy: 0.4349\n",
      "Epoch 132/150\n",
      "457/457 [==============================] - 3s 7ms/step - loss: 1.1736 - accuracy: 0.4637 - val_loss: 1.2362 - val_accuracy: 0.4306\n",
      "Epoch 133/150\n",
      "457/457 [==============================] - 3s 7ms/step - loss: 1.1737 - accuracy: 0.4615 - val_loss: 1.2338 - val_accuracy: 0.4365\n",
      "Epoch 134/150\n",
      "457/457 [==============================] - 3s 7ms/step - loss: 1.1747 - accuracy: 0.4610 - val_loss: 1.2352 - val_accuracy: 0.4293\n",
      "Epoch 135/150\n",
      "457/457 [==============================] - 3s 7ms/step - loss: 1.1738 - accuracy: 0.4634 - val_loss: 1.2332 - val_accuracy: 0.4316\n",
      "Epoch 136/150\n",
      "457/457 [==============================] - 3s 7ms/step - loss: 1.1717 - accuracy: 0.4639 - val_loss: 1.2396 - val_accuracy: 0.4332\n",
      "Epoch 137/150\n",
      "457/457 [==============================] - 4s 9ms/step - loss: 1.1720 - accuracy: 0.4628 - val_loss: 1.2322 - val_accuracy: 0.4324\n",
      "Epoch 138/150\n",
      "457/457 [==============================] - 4s 9ms/step - loss: 1.1732 - accuracy: 0.4655 - val_loss: 1.2329 - val_accuracy: 0.4307\n",
      "Epoch 139/150\n",
      "457/457 [==============================] - 3s 8ms/step - loss: 1.1714 - accuracy: 0.4647 - val_loss: 1.2343 - val_accuracy: 0.4347\n",
      "Epoch 140/150\n",
      "457/457 [==============================] - 3s 7ms/step - loss: 1.1725 - accuracy: 0.4643 - val_loss: 1.2337 - val_accuracy: 0.4333\n",
      "Epoch 141/150\n",
      "457/457 [==============================] - 3s 7ms/step - loss: 1.1719 - accuracy: 0.4653 - val_loss: 1.2366 - val_accuracy: 0.4311\n",
      "Epoch 142/150\n",
      "457/457 [==============================] - 3s 7ms/step - loss: 1.1709 - accuracy: 0.4649 - val_loss: 1.2376 - val_accuracy: 0.4284\n",
      "Epoch 143/150\n",
      "457/457 [==============================] - 3s 7ms/step - loss: 1.1707 - accuracy: 0.4629 - val_loss: 1.2377 - val_accuracy: 0.4305\n",
      "Epoch 144/150\n",
      "457/457 [==============================] - 3s 7ms/step - loss: 1.1715 - accuracy: 0.4618 - val_loss: 1.2334 - val_accuracy: 0.4310\n",
      "Epoch 145/150\n",
      "457/457 [==============================] - 3s 7ms/step - loss: 1.1700 - accuracy: 0.4649 - val_loss: 1.2374 - val_accuracy: 0.4316\n",
      "Epoch 146/150\n",
      "457/457 [==============================] - 3s 7ms/step - loss: 1.1693 - accuracy: 0.4649 - val_loss: 1.2355 - val_accuracy: 0.4344\n",
      "Epoch 147/150\n",
      "457/457 [==============================] - 3s 7ms/step - loss: 1.1691 - accuracy: 0.4684 - val_loss: 1.2422 - val_accuracy: 0.4290\n",
      "Epoch 148/150\n",
      "457/457 [==============================] - 3s 7ms/step - loss: 1.1684 - accuracy: 0.4670 - val_loss: 1.2427 - val_accuracy: 0.4270\n",
      "Epoch 149/150\n",
      "457/457 [==============================] - 3s 7ms/step - loss: 1.1665 - accuracy: 0.4674 - val_loss: 1.2387 - val_accuracy: 0.4346\n",
      "Epoch 150/150\n",
      "457/457 [==============================] - 3s 7ms/step - loss: 1.1683 - accuracy: 0.4640 - val_loss: 1.2367 - val_accuracy: 0.4381\n"
     ]
    },
    {
     "data": {
      "image/png": "[encoded data removed]",
      "text/plain": [
       "<Figure size 1280x480 with 2 Axes>"
      ]
     },
     "metadata": {},
     "output_type": "display_data"
    }
   ],
   "source": [
    "# Architecture 1: 32-64-128-3 RNN with 'relu' and 'softmax'\n",
    "# Defining the RNN architecture\n",
    "model = tf.keras.models.Sequential()\n",
    "model.add(tf.keras.layers.SimpleRNN(32, activation='relu', input_shape=(input_dimension, 1)))\n",
    "model.add(tf.keras.layers.Dense(64, activation='relu'))\n",
    "model.add(tf.keras.layers.Dense(128, activation='relu'))\n",
    "model.add(tf.keras.layers.Dropout(0.2))\n",
    "model.add(tf.keras.layers.Flatten())\n",
    "model.add(tf.keras.layers.Dense(num_classes, activation='softmax'))\n",
    "\n",
    "# Model Compilation\n",
    "model.compile(optimizer=tf.keras.optimizers.Adam(learning_rate=learning_rate),\n",
    "              loss='categorical_crossentropy',\n",
    "              metrics=['accuracy'])\n",
    "\n",
    "# Stopping early to avoid overfitting\n",
    "stop_callback = myCallback()\n",
    "# Training\n",
    "history = model.fit(x_train_reshaped, y_train_encoded, epochs=epochs, batch_size=batch_size, validation_data=(x_test_reshaped, y_test_encoded), callbacks=[stop_callback])\n",
    "\n",
    "# Plotting training and testing curves\n",
    "default_size = plt.rcParams['figure.figsize']\n",
    "fig = plt.figure(figsize=[default_size[0] * 2, default_size[1]])\n",
    "\n",
    "fig.add_subplot(1, 2, 1)\n",
    "plt.plot(history.history['accuracy'], label = 'accuracy')          # Train accuracy (blue)\n",
    "plt.plot(history.history['val_accuracy'], label = 'val_accuracy')  # Valid accuracy (orange)\n",
    "plt.xlabel('Epoch')\n",
    "plt.ylabel('Accuracy')\n",
    "plt.title('Accuracy')\n",
    "plt.legend(loc='lower right')\n",
    "\n",
    "fig.add_subplot(1, 2, 2)\n",
    "plt.plot(history.history['loss'], label='loss')          # Train loss (blue)\n",
    "plt.plot(history.history['val_loss'], label='val_loss')  # Valid loss (orange)\n",
    "plt.xlabel('Epoch')\n",
    "plt.ylabel('Loss')\n",
    "plt.title('Loss')\n",
    "plt.legend(loc='upper right')\n",
    "plt.show()"
   ]
  },
  {
   "cell_type": "code",
   "execution_count": 33,
   "id": "6d3f9dda",
   "metadata": {},
   "outputs": [
    {
     "name": "stdout",
     "output_type": "stream",
     "text": [
      "Test Loss: 1.236714482307434\n",
      "Test Accuracy: 0.4380844831466675\n"
     ]
    }
   ],
   "source": [
    "test_loss_5, test_accuracy_5 = model.evaluate(x_test_reshaped, y_test_encoded, verbose=0)\n",
    "print('Test Loss:', test_loss_5)\n",
    "print('Test Accuracy:', test_accuracy_5)"
   ]
  },
  {
   "cell_type": "code",
   "execution_count": null,
   "id": "44f23111",
   "metadata": {},
   "outputs": [],
   "source": []
  }
 ],
 "metadata": {
  "kernelspec": {
   "display_name": "ml",
   "language": "python",
   "name": "ml"
  },
  "language_info": {
   "codemirror_mode": {
    "name": "ipython",
    "version": 3
   },
   "file_extension": ".py",
   "mimetype": "text/x-python",
   "name": "python",
   "nbconvert_exporter": "python",
   "pygments_lexer": "ipython3",
   "version": "3.9.13"
  }
 },
 "nbformat": 4,
 "nbformat_minor": 5
}
